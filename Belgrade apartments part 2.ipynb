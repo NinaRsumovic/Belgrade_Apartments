{
 "cells": [
  {
   "cell_type": "markdown",
   "metadata": {
    "hideCode": false,
    "hidePrompt": false
   },
   "source": [
    "Hi.\n",
    "\n",
    "This is an apartment on sale data downloaded from https://www.halooglasi.com/ . Data was downloaded in late summer in August 2019., so it is outdated and it's only used for fun and data analysis.\n",
    "\n",
    "In the future, I plan to buy an apartment, and that's why I decided to explore (done in Belgrade apartments part 1). \n",
    "I used this data to practice a few machine learning algorithms for predicting Price, given the data about the apartment in Belgrade (done in Belgrade apartments part 2)."
   ]
  },
  {
   "cell_type": "code",
   "execution_count": 1,
   "metadata": {
    "hideCode": false,
    "hidePrompt": false
   },
   "outputs": [],
   "source": [
    "import pandas as pd\n",
    "import numpy as np\n",
    "import sqlite3\n",
    "\n",
    "%matplotlib inline\n",
    "import matplotlib.pyplot as plt\n",
    "import seaborn as sns\n",
    "\n",
    "from scipy.stats import norm\n",
    "from scipy import stats\n",
    "\n",
    "from sklearn.preprocessing import LabelEncoder\n",
    "from sklearn.preprocessing import OneHotEncoder\n",
    "\n",
    "from sklearn.model_selection import train_test_split\n",
    "\n",
    "\n",
    "import warnings\n",
    "warnings.filterwarnings('ignore')"
   ]
  },
  {
   "cell_type": "code",
   "execution_count": 2,
   "metadata": {
    "hideCode": false,
    "hidePrompt": false
   },
   "outputs": [
    {
     "data": {
      "text/html": [
       "<div>\n",
       "<style scoped>\n",
       "    .dataframe tbody tr th:only-of-type {\n",
       "        vertical-align: middle;\n",
       "    }\n",
       "\n",
       "    .dataframe tbody tr th {\n",
       "        vertical-align: top;\n",
       "    }\n",
       "\n",
       "    .dataframe thead th {\n",
       "        text-align: right;\n",
       "    }\n",
       "</style>\n",
       "<table border=\"1\" class=\"dataframe\">\n",
       "  <thead>\n",
       "    <tr style=\"text-align: right;\">\n",
       "      <th></th>\n",
       "      <th>id</th>\n",
       "      <th>accommodation_type</th>\n",
       "      <th>address</th>\n",
       "      <th>advertiser</th>\n",
       "      <th>city</th>\n",
       "      <th>description</th>\n",
       "      <th>location</th>\n",
       "      <th>municipality</th>\n",
       "      <th>number_of_rooms</th>\n",
       "      <th>price</th>\n",
       "      <th>...</th>\n",
       "      <th>balcony</th>\n",
       "      <th>intercom</th>\n",
       "      <th>lift</th>\n",
       "      <th>parking</th>\n",
       "      <th>telephone</th>\n",
       "      <th>internet</th>\n",
       "      <th>katv</th>\n",
       "      <th>garage</th>\n",
       "      <th>basement</th>\n",
       "      <th>loggia</th>\n",
       "    </tr>\n",
       "  </thead>\n",
       "  <tbody>\n",
       "    <tr>\n",
       "      <th>0</th>\n",
       "      <td>1</td>\n",
       "      <td>Stan</td>\n",
       "      <td>Bulevar Mihajla Pupina</td>\n",
       "      <td>Agencija</td>\n",
       "      <td>Beograd</td>\n",
       "      <td>Stan se nalazi u Bloku 30 i pozicioniran je bl...</td>\n",
       "      <td>Blok 30 (B92)</td>\n",
       "      <td>Opština Novi Beograd</td>\n",
       "      <td>2</td>\n",
       "      <td>119</td>\n",
       "      <td>...</td>\n",
       "      <td>1.0</td>\n",
       "      <td>NaN</td>\n",
       "      <td>1.0</td>\n",
       "      <td>NaN</td>\n",
       "      <td>1.0</td>\n",
       "      <td>1.0</td>\n",
       "      <td>1.0</td>\n",
       "      <td>NaN</td>\n",
       "      <td>NaN</td>\n",
       "      <td>None</td>\n",
       "    </tr>\n",
       "    <tr>\n",
       "      <th>1</th>\n",
       "      <td>2</td>\n",
       "      <td>Stan</td>\n",
       "      <td>Antifašističke borbe</td>\n",
       "      <td>Agencija</td>\n",
       "      <td>Beograd</td>\n",
       "      <td>Stan na odličnoj lokaciji. Nalazi se u Bloku 2...</td>\n",
       "      <td>Blok 22</td>\n",
       "      <td>Opština Novi Beograd</td>\n",
       "      <td>2</td>\n",
       "      <td>149.5</td>\n",
       "      <td>...</td>\n",
       "      <td>1.0</td>\n",
       "      <td>NaN</td>\n",
       "      <td>1.0</td>\n",
       "      <td>1.0</td>\n",
       "      <td>1.0</td>\n",
       "      <td>1.0</td>\n",
       "      <td>1.0</td>\n",
       "      <td>NaN</td>\n",
       "      <td>1.0</td>\n",
       "      <td>None</td>\n",
       "    </tr>\n",
       "    <tr>\n",
       "      <th>2</th>\n",
       "      <td>3</td>\n",
       "      <td>Stan</td>\n",
       "      <td>Jurija Gagarina</td>\n",
       "      <td>Agencija</td>\n",
       "      <td>Beograd</td>\n",
       "      <td>Dvosoban stan u Belvilu od 60m2 sa terasom, 5/...</td>\n",
       "      <td>Blok 67 (Belvil)</td>\n",
       "      <td>Opština Novi Beograd</td>\n",
       "      <td>2</td>\n",
       "      <td>136</td>\n",
       "      <td>...</td>\n",
       "      <td>1.0</td>\n",
       "      <td>NaN</td>\n",
       "      <td>1.0</td>\n",
       "      <td>NaN</td>\n",
       "      <td>1.0</td>\n",
       "      <td>1.0</td>\n",
       "      <td>1.0</td>\n",
       "      <td>NaN</td>\n",
       "      <td>NaN</td>\n",
       "      <td>None</td>\n",
       "    </tr>\n",
       "    <tr>\n",
       "      <th>3</th>\n",
       "      <td>4</td>\n",
       "      <td>Stan</td>\n",
       "      <td>Uroša Martinovića</td>\n",
       "      <td>Agencija</td>\n",
       "      <td>Beograd</td>\n",
       "      <td>U prilici smo da vam ponudimo stan u novom nas...</td>\n",
       "      <td>Blok 67a (A blok)</td>\n",
       "      <td>Opština Novi Beograd</td>\n",
       "      <td>3</td>\n",
       "      <td>205</td>\n",
       "      <td>...</td>\n",
       "      <td>1.0</td>\n",
       "      <td>NaN</td>\n",
       "      <td>1.0</td>\n",
       "      <td>NaN</td>\n",
       "      <td>1.0</td>\n",
       "      <td>1.0</td>\n",
       "      <td>1.0</td>\n",
       "      <td>1.0</td>\n",
       "      <td>NaN</td>\n",
       "      <td>None</td>\n",
       "    </tr>\n",
       "    <tr>\n",
       "      <th>4</th>\n",
       "      <td>5</td>\n",
       "      <td>Stan</td>\n",
       "      <td>Katićeva</td>\n",
       "      <td>Agencija</td>\n",
       "      <td>Beograd</td>\n",
       "      <td>Stan na odličnoj lokaciji. Kompletno renoviran...</td>\n",
       "      <td>Centar</td>\n",
       "      <td>Opština Savski venac</td>\n",
       "      <td>3.5</td>\n",
       "      <td>245</td>\n",
       "      <td>...</td>\n",
       "      <td>1.0</td>\n",
       "      <td>NaN</td>\n",
       "      <td>1.0</td>\n",
       "      <td>NaN</td>\n",
       "      <td>1.0</td>\n",
       "      <td>1.0</td>\n",
       "      <td>1.0</td>\n",
       "      <td>NaN</td>\n",
       "      <td>1.0</td>\n",
       "      <td>None</td>\n",
       "    </tr>\n",
       "  </tbody>\n",
       "</table>\n",
       "<p>5 rows × 30 columns</p>\n",
       "</div>"
      ],
      "text/plain": [
       "   id accommodation_type                 address advertiser     city  \\\n",
       "0   1               Stan  Bulevar Mihajla Pupina   Agencija  Beograd   \n",
       "1   2               Stan    Antifašističke borbe   Agencija  Beograd   \n",
       "2   3               Stan         Jurija Gagarina   Agencija  Beograd   \n",
       "3   4               Stan       Uroša Martinovića   Agencija  Beograd   \n",
       "4   5               Stan                Katićeva   Agencija  Beograd   \n",
       "\n",
       "                                         description           location  \\\n",
       "0  Stan se nalazi u Bloku 30 i pozicioniran je bl...      Blok 30 (B92)   \n",
       "1  Stan na odličnoj lokaciji. Nalazi se u Bloku 2...            Blok 22   \n",
       "2  Dvosoban stan u Belvilu od 60m2 sa terasom, 5/...   Blok 67 (Belvil)   \n",
       "3  U prilici smo da vam ponudimo stan u novom nas...  Blok 67a (A blok)   \n",
       "4  Stan na odličnoj lokaciji. Kompletno renoviran...             Centar   \n",
       "\n",
       "           municipality number_of_rooms  price  ... balcony intercom lift  \\\n",
       "0  Opština Novi Beograd               2    119  ...     1.0      NaN  1.0   \n",
       "1  Opština Novi Beograd               2  149.5  ...     1.0      NaN  1.0   \n",
       "2  Opština Novi Beograd               2    136  ...     1.0      NaN  1.0   \n",
       "3  Opština Novi Beograd               3    205  ...     1.0      NaN  1.0   \n",
       "4  Opština Savski venac             3.5    245  ...     1.0      NaN  1.0   \n",
       "\n",
       "  parking telephone internet  katv garage  basement  loggia  \n",
       "0     NaN       1.0      1.0   1.0    NaN       NaN    None  \n",
       "1     1.0       1.0      1.0   1.0    NaN       1.0    None  \n",
       "2     NaN       1.0      1.0   1.0    NaN       NaN    None  \n",
       "3     NaN       1.0      1.0   1.0    1.0       NaN    None  \n",
       "4     NaN       1.0      1.0   1.0    NaN       1.0    None  \n",
       "\n",
       "[5 rows x 30 columns]"
      ]
     },
     "execution_count": 2,
     "metadata": {},
     "output_type": "execute_result"
    }
   ],
   "source": [
    "dat = sqlite3.connect('C:/Users/User/Desktop/Case Study Belgrade appartmants/apartments-sale-total.sqlite')\n",
    "data=pd.read_sql_query('select * from apartments', dat)\n",
    "data.head()"
   ]
  },
  {
   "cell_type": "code",
   "execution_count": 3,
   "metadata": {},
   "outputs": [],
   "source": [
    "# Keeping this unchanged for checkups\n",
    "data_for_checking=pd.read_sql_query('select * from apartments', dat)"
   ]
  },
  {
   "cell_type": "markdown",
   "metadata": {
    "hideCode": false,
    "hidePrompt": false
   },
   "source": [
    "**Handling missing data**"
   ]
  },
  {
   "cell_type": "code",
   "execution_count": 4,
   "metadata": {
    "hideCode": false,
    "hidePrompt": false
   },
   "outputs": [
    {
     "data": {
      "text/plain": [
       "id                            0\n",
       "accommodation_type            0\n",
       "address                       0\n",
       "advertiser                    0\n",
       "city                          0\n",
       "description                   0\n",
       "location                      0\n",
       "municipality                  0\n",
       "number_of_rooms               0\n",
       "price                         0\n",
       "publish_date                  0\n",
       "size                          0\n",
       "advertisement_id              0\n",
       "advertisement_url             0\n",
       "heating                     778\n",
       "floor                       423\n",
       "total_number_of_floors      975\n",
       "object_type                5934\n",
       "filed                      5012\n",
       "pdv_return                17727\n",
       "balcony                    9403\n",
       "intercom                  18255\n",
       "lift                      10782\n",
       "parking                   14279\n",
       "telephone                 10205\n",
       "internet                  12943\n",
       "katv                      12668\n",
       "garage                    16643\n",
       "basement                  14058\n",
       "loggia                    18256\n",
       "dtype: int64"
      ]
     },
     "execution_count": 4,
     "metadata": {},
     "output_type": "execute_result"
    }
   ],
   "source": [
    "data.isnull().sum()"
   ]
  },
  {
   "cell_type": "markdown",
   "metadata": {
    "hideCode": false,
    "hidePrompt": false
   },
   "source": [
    "If there is missing data in columns: 'balcony', 'basement', 'parking', 'garage' and 'filed' it probably means that this should be marked as 'No' or in this case 0. These values are going to be filled.\n",
    "\n",
    "Other boolean columns are the ones that should be deleted because I cannot know for sure that missing value means that there is no that option.\n",
    "\n",
    "Columns like 'telephone', 'katv', 'internet', 'intercom' are probably included in every apartment and if they are not, it can be installed. They don't influence the buyers' decisions (Or at least it wouldn't influence my decision). \n",
    "\n",
    "Coulmns that has are just redundant data are 'id', 'city', 'accommodation_type', 'publish_date', 'advertisement_id', 'advertisement_url', 'loggia', 'description'.\n",
    "\n",
    "Column 'address' contains values that are fake or close to a real address, because owners would like to keep their privacy. This column is going to be deleted."
   ]
  },
  {
   "cell_type": "code",
   "execution_count": 5,
   "metadata": {
    "hideCode": false,
    "hidePrompt": false
   },
   "outputs": [],
   "source": [
    "data.balcony = [0 if data.balcony[i]!=1 else data.balcony[i] for i in range(0, len(data.balcony))]\n",
    "data.basement = [0 if data.basement[i]!=1 else data.basement[i] for i in range(0, len(data.basement))]\n",
    "data.parking = [0 if data.parking[i]!=1 else data.parking[i] for i in range(0, len(data.parking))]\n",
    "data.garage = [0 if data.garage[i]!=1 else data.garage[i] for i in range(0, len(data.garage))]\n",
    "data.filed = [0 if data.filed[i]!=1 else data.filed[i] for i in range(0, len(data.filed))]"
   ]
  },
  {
   "cell_type": "code",
   "execution_count": 6,
   "metadata": {
    "hideCode": false,
    "hidePrompt": false
   },
   "outputs": [],
   "source": [
    "# I'll keep this for data inputing. Importanat informations can be found in description\n",
    "description = data.description"
   ]
  },
  {
   "cell_type": "code",
   "execution_count": 7,
   "metadata": {
    "hideCode": false,
    "hidePrompt": false
   },
   "outputs": [],
   "source": [
    "# Keeping the advertisement_url\n",
    "data = data.drop(['telephone','lift','katv','internet','pdv_return','intercom', 'id','address','city','accommodation_type','publish_date','advertisement_id','loggia','description'], axis=1)"
   ]
  },
  {
   "cell_type": "code",
   "execution_count": 8,
   "metadata": {
    "hideCode": false,
    "hidePrompt": false
   },
   "outputs": [
    {
     "data": {
      "text/plain": [
       "advertiser                   0\n",
       "location                     0\n",
       "municipality                 0\n",
       "number_of_rooms              0\n",
       "price                        0\n",
       "size                         0\n",
       "advertisement_url            0\n",
       "heating                    778\n",
       "floor                      423\n",
       "total_number_of_floors     975\n",
       "object_type               5934\n",
       "filed                        0\n",
       "balcony                      0\n",
       "parking                      0\n",
       "garage                       0\n",
       "basement                     0\n",
       "dtype: int64"
      ]
     },
     "execution_count": 8,
     "metadata": {},
     "output_type": "execute_result"
    }
   ],
   "source": [
    "data.isnull().sum()"
   ]
  },
  {
   "cell_type": "code",
   "execution_count": 9,
   "metadata": {
    "hideCode": false,
    "hidePrompt": false
   },
   "outputs": [
    {
     "data": {
      "text/plain": [
       "array([None, 'Novogradnja', 'U izgradnji', 'Stara gradnja'], dtype=object)"
      ]
     },
     "execution_count": 9,
     "metadata": {},
     "output_type": "execute_result"
    }
   ],
   "source": [
    "data.object_type.unique()"
   ]
  },
  {
   "cell_type": "markdown",
   "metadata": {
    "hideCode": false,
    "hidePrompt": false
   },
   "source": [
    "A bit of translating: 'Novogradnja' = New building, 'U izgradnji'=Under construction, 'Stara gradnja'=Old building.\n",
    "\n",
    "None values are going to be filled with 'Unknown'."
   ]
  },
  {
   "cell_type": "code",
   "execution_count": 10,
   "metadata": {
    "hideCode": false,
    "hidePrompt": false
   },
   "outputs": [],
   "source": [
    "data.object_type = ['Unknown' if data.object_type[i]==None else data.object_type[i] for i in range(0, data.shape[0])]"
   ]
  },
  {
   "cell_type": "code",
   "execution_count": 11,
   "metadata": {
    "hideCode": false,
    "hidePrompt": false
   },
   "outputs": [
    {
     "data": {
      "text/plain": [
       "object_type\n",
       "Novogradnja      5383\n",
       "Stara gradnja    6543\n",
       "U izgradnji       396\n",
       "Unknown          5934\n",
       "Name: object_type, dtype: int64"
      ]
     },
     "execution_count": 11,
     "metadata": {},
     "output_type": "execute_result"
    }
   ],
   "source": [
    "data.groupby('object_type').object_type.count()"
   ]
  },
  {
   "cell_type": "markdown",
   "metadata": {
    "hideCode": false,
    "hidePrompt": false
   },
   "source": [
    "I'll try to have as accurate data as it is possible. So, I'll read the description part and try to find if there is anything mentioned about heating. After that, the most frequent heating type on the corresponding location will be filled in missing values. The rest will be filled with the most frequent value."
   ]
  },
  {
   "cell_type": "code",
   "execution_count": 12,
   "metadata": {
    "hideCode": false,
    "hidePrompt": false
   },
   "outputs": [
    {
     "data": {
      "text/plain": [
       "0    CG\n",
       "dtype: object"
      ]
     },
     "execution_count": 12,
     "metadata": {},
     "output_type": "execute_result"
    }
   ],
   "source": [
    "data.heating.mode()"
   ]
  },
  {
   "cell_type": "code",
   "execution_count": 13,
   "metadata": {
    "hideCode": false,
    "hidePrompt": false
   },
   "outputs": [
    {
     "name": "stdout",
     "output_type": "stream",
     "text": [
      "2409 None Stari grad, Donji Dorćol - Venizelosova 2.0, 47m2, 5/6, grejanje - toplotne pume, lift, interfon Visokokvalitetni stanovi u izgradnji – „pametni“...\n",
      "2411 None Stari grad, Donji Dorćol - Venizelosova 3.0, 60m2, 5/6, grejanje - toplotne pume, lift, interfon Visokokvalitetni stanovi u izgradnji – „pametni“...\n",
      "2412 None Stari grad, Donji Dorćol - Venizelosova 4.0, 110m2, 6/6, grejanje - toplotne pumpe, lift, interfon Visokokvalitetni stanovi u izgradnji – „pametni“...\n",
      "5127 None Stari grad, Donji Dorćol - Venizelosova 2.0, 45m2, 4/6, grejanje - toplotne pumpe, lift, interfon Visokokvalitetni stanovi u izgradnji – „pametni“...\n",
      "5128 None Stari grad, Donji Dorćol - Venizelosova 0.5, 30m2, 4/6, grejanje - topltone pumpe, lift, telefon, interfon Visokokvalitetni stanovi u izgradnji –...\n",
      "5130 None Stari grad, Donji Dorćol - Venizelosova 4.0, 94m2, 5/6, grejanje - toplotne pumpe, lift, interfon Visokokvalitetni stanovi u izgradnji – „pametni“...\n",
      "5514 None Agencijski ID: 41711, 1/3, lift, terasa(2), uknjižen, novogradnja, lux stan u izgradnji. grejanje i hladjenje toplotne pumpe vazduh voda. stolarija...\n",
      "5522 None Agencijski ID: 41710, 1/3, lift, terasa(2), uknjižen, mermerni, novogradnja, lux stan u izgradnji . grejanje i hladjenje toplotne pumpe vazduh- voda....\n",
      "7216 None Stari grad, Donji Dorćol - Venizelosova 2.0, 45m2 (lođa 4m2), 1/6, grejanje - toplotne pumpe, lift, interfon Visokokvalitetni stanovi u izgradnji –...\n",
      "7218 None Stari grad, Donji Dorćol - Venizelosova 4.0, 94m2 (lođa 6m2), 1/6, grejanje - toplotne pumpe, lift, interfon Visokokvalitetni stanovi u izgradnji –...\n",
      "8208 None Vračar, Čuburski park - Sazonova 78 m2 3.0, 72m2 + terasa 6m2, 1/4, grejanje norveški radijatori, interfon, video nadzor, kablovska, klima U novoj...\n",
      "9263 None Vračar, Crveni krst - Žička 4.0, 117m2 (terasa 10m2), 2/7, grejanje - toplotne pumpe, lift, telefon, interfon, SBB internet - optički kabl U...\n",
      "9289 None Vračar, Crveni krst - Žička 4.0, 105m2 (dve terase 8m2), 1/7, grejanje - toplotne pumpe, lift, telefon, interfon, video nadzor U kvalitetnoj...\n",
      "12420 None Savski venac, centar - Crnogorska 4.0, 73m2 (terasa 3m2), 6/6, grejanje na struju, lift, telefon, interfon Sređen četvorosoban stan u strogom centru...\n",
      "16117 None Agencijski ID: 42499, 2/2, lift, terasa, uknjižen, renoviran, novogradnja, garaža(2), parking, ostava, vodena pumpa grejanje -hladjenje. Reg.Br. 554....\n"
     ]
    }
   ],
   "source": [
    "for j in range(0, len(description)):\n",
    "    for i in description[j].split():\n",
    "        if (i=='grejanje') and data.heating[j]==None:\n",
    "            print(j, data.heating[j], description[j])"
   ]
  },
  {
   "cell_type": "code",
   "execution_count": 14,
   "metadata": {
    "hideCode": false,
    "hidePrompt": false
   },
   "outputs": [],
   "source": [
    "data.heating[2409]= 'Toplotne pumpe'\n",
    "data.heating[2411]= 'Toplotne pumpe'\n",
    "data.heating[2412]= 'Toplotne pumpe'\n",
    "data.heating[5127]= 'Toplotne pumpe'\n",
    "data.heating[5128]= 'Toplotne pumpe'\n",
    "data.heating[5130]= 'Toplotne pumpe'\n",
    "data.heating[5514]= 'Toplotne pumpe'\n",
    "data.heating[5522]= 'Toplotne pumpe'\n",
    "data.heating[7216]= 'Toplotne pumpe'\n",
    "data.heating[7218]= 'Toplotne pumpe'\n",
    "data.heating[8208]= 'Norveški radijatori'\n",
    "data.heating[9263]= 'Toplotne pumpe'\n",
    "data.heating[9289]= 'Toplotne pumpe'\n",
    "data.heating[12420]= 'EG'\n",
    "data.heating[16117]= 'Toplotne pumpe'"
   ]
  },
  {
   "cell_type": "code",
   "execution_count": 15,
   "metadata": {
    "hideCode": false,
    "hidePrompt": false
   },
   "outputs": [
    {
     "name": "stdout",
     "output_type": "stream",
     "text": [
      "210 None prodaja stana Beograd, ČUKARICA, CERAK, Stojana Matića, UKNJIŽEN,  dvosoban stan sa terasom, stambena zgrada, sprat: 1, ta, mogućnost uvođenja gasa,...\n",
      "1278 None Zvezdara, Mirijevo - Jovanke Radaković 2.0, 49m2 (terasa 4m2), TA, VPR/1, podrum, parking. Odličan, renoviran stan, nalazi se u prizemlju, ali je...\n",
      "12870 None UKNJIŽEN, 37m2, I/III, TA, bez lifta. Jednoiposoban stan u predratnoj zgradi na prvom spratu. Stan je svetao i uvučen od dnevne buke. Prostorije:...\n",
      "16876 None Uknjižen, 79m2, 3.0 – soban, dvoetažni stan, IV/IV bez lifta, TA grejanje, podrum. Duplex, nije dogradnja već je adaptiran tavan. Stan je u dobrom...\n"
     ]
    }
   ],
   "source": [
    "for j in range(0, len(description)):\n",
    "    for i in description[j].split():\n",
    "        if (i=='TA' or i=='ta' or i=='TA,' or i=='ta,') and data.heating[j]==None:\n",
    "            print(j, data.heating[j], description[j])"
   ]
  },
  {
   "cell_type": "code",
   "execution_count": 16,
   "metadata": {
    "hideCode": false,
    "hidePrompt": false
   },
   "outputs": [],
   "source": [
    "data.heating[16876]= 'TA'\n",
    "data.heating[210]= 'TA'\n",
    "data.heating[1278]= 'TA'\n",
    "data.heating[12870]= 'TA'"
   ]
  },
  {
   "cell_type": "code",
   "execution_count": 17,
   "metadata": {
    "hideCode": false,
    "hidePrompt": false
   },
   "outputs": [
    {
     "name": "stdout",
     "output_type": "stream",
     "text": [
      "1001 None Stari Grad, Gornji Dorćol - Gospodar Jovanova 2.0, 50m2 (terasa 2m2), 2/7, norveški radijatori, lift, interfon, podrum. Luksuzno opremljen dvosoban...\n",
      "1789 None Voždovac, Medaković III, Svetozara Radojčića 160 m2 4.0, 160m2 , 1/2, norveški radijatori, telefon, interfon, parking,(tri terase 17m2) Funkcionalan,...\n",
      "4731 None Agencijski ID: 43225, 1/3, telefon, terasa, prosečan, novogradnja, stambena zgrada, grijanje norveski radijator , u blizini skole snadbjevanja...\n",
      "4731 None Agencijski ID: 43225, 1/3, telefon, terasa, prosečan, novogradnja, stambena zgrada, grijanje norveski radijator , u blizini skole snadbjevanja...\n",
      "4732 None Agencijski ID: 43261, 2/3, terasa, nov, prosečan, novogradnja, dobra, stambena zgrada, grijanje , norveski radijator, u blizini skole , snadbjevanja...\n",
      "5822 None Zvezdara, Bulevar kralja Aleksandra, Paje Jovanovića 34 m2 34 m2, SUT/3, norveški radijatori, telefon, interfon, kablovska, klima Prelep stan na...\n",
      "6078 None Novi Beograd, Blok 8a - Otona Župančiča 3.0, 54m2, 4/6, norveški radijatori, telefon, interfon, podrum, parking. Veoma funkcionalan trosoban stan, na...\n",
      "6781 None Voždovac, Kumodraž, Božićna 41 m2 41 m2, 1.5, 3/3, norveški radijatori, interfon, telefon, terasa, parking Sređen stan u potkrovlju zgrade koja je...\n",
      "8408 None Zvezdara, Mirijevo, Mirijevsko brdo 57, 37 m2 57, 37 m2, 3.0, 1/3, norveški radijatori, interfon, telefon, lift, parking, lođa Novogradnja u...\n",
      "8410 None Zvezdara, Mirijevo, Mirijevsko brdo 50,21 m2 50,21 m2, 2.0, PR/3, norveški radijatori, interfon, telefon, lift, parking Novogradnja u kompleksu...\n",
      "9373 None Vračar, Slavija, Makenzijeva 32m2 + terasa od 47 m2 1.0, 32m2, 4/4, norveški radijatori, terasa, interfon, telefon. Veoma lep, svetao, sređen i...\n",
      "9626 None Zvezdara, Konjarnik - Mihaila Todorovića 2.0, 45m2 (terasa 3m2), 4/4, norveški radijatori, telefon, interfon, parking. Funkcionalan dvosoban stan na...\n",
      "9719 None Zvezdara, Lipov lad, Bulevar kralja Aleksandra 74 m2 74 m2, 3.0, 4/5, norveški radijatori, interfon, telefon, podrum, terasa Funkcionalan, dvostrano...\n",
      "10365 None Palilula, Kraljičin cvet - Mirijevsko brdo 3.0, 67m2 (terasa 2m2), 2/3, norveški radijatori, lift, telefon, interfon, parking. Veoma luksuzan...\n",
      "10366 None Palilula, Kraljičin cvet - Mirijevsko brdo 3.0, 80m2 (terasa 3m2), 2/3, norveški radijatori, lift, telefon, interfon, parking. Veoma luksuzan...\n",
      "10367 None Palilula, Kraljičin cvet - Mirijevsko brdo 1.5, 37m2 (terasa 2m2), PR/3, norveški radijatori, lift, telefon, interfon, parking. Luksuzan...\n",
      "10797 None Palilula, Višnjička banja, Slanački put 36 m2 36 m2,(lođa 4 m2 ),1.5, norveški radijatori, interfon, telefon, lođa, parking U naselju Višnjička...\n",
      "11409 None 3,0 Vracar , Slavija , Makenzijeva , izuzetan stan -duplex na Slaviji , 210 m2 + 2 terase 47m2 , IV + V sprat , norveski radijatori , sa pogledom na...\n",
      "11409 None 3,0 Vracar , Slavija , Makenzijeva , izuzetan stan -duplex na Slaviji , 210 m2 + 2 terase 47m2 , IV + V sprat , norveski radijatori , sa pogledom na...\n",
      "12788 None Palilula, Višnjička banja - Romena Rolana 5.0, 192m2 (terasa 40m2), dvorište 2,5 ara, PR+I sprat, norveški radijatori, telefon, interfon, podrum, dva...\n",
      "12801 None Savski venac, Beli dvor, Đorđa Radojevića 160m2 6.0, 160 m2, 2/2, norveški radijatori, terasa, parking, interfon, telefon Veoma svetao, funkcionalan...\n",
      "13153 None Voždovac, Voždovačka crkva - Nikole Đurkovića 2.5, 45m2 (terasa 3m2), 2/3, norveški radijatori, telefon, kablovska, internet. Veoma svetao...\n",
      "13257 None Zvezdara, Lipov Lad, Ulcinjska 150 m2 150 m2, 4.0, 4/5, lift, norveški radijatori, interfon, telefon, garaža, terasa Četvorosoban stan u novijoj...\n",
      "14039 None Luks dupleks, norveski radijatori, stan je za svaku preporuku.stan je u procesu ozakonjenja. Agencijska provizija iznosi 2% od ugovorene kupoprodajne...\n",
      "16834 None Uknjižen, dvoiposoban, 68m2 grejne površine + terasa 2m2, III/IV, bez lifta, norveški radijatori. Dvostrano orijentisan, kompletno renoviran. Dobra...\n"
     ]
    }
   ],
   "source": [
    "for j in range(0, len(description)):\n",
    "    for i in description[j].split():\n",
    "        if (i=='radijator' or i=='radijatori' or i=='norveski' or i=='norveški') and data.heating[j]==None:\n",
    "            print(j, data.heating[j], description[j])"
   ]
  },
  {
   "cell_type": "code",
   "execution_count": 18,
   "metadata": {
    "hideCode": false,
    "hidePrompt": false
   },
   "outputs": [],
   "source": [
    "data.heating[4731]= 'Norveški radijatori'\n",
    "data.heating[11409]= 'Norveški radijatori'\n",
    "data.heating[1001]= 'Norveški radijatori'\n",
    "data.heating[1789]= 'Norveški radijatori'\n",
    "data.heating[4732]= 'Norveški radijatori'\n",
    "data.heating[5822]= 'Norveški radijatori'\n",
    "data.heating[6078]= 'Norveški radijatori'\n",
    "data.heating[6781]= 'Norveški radijatori'\n",
    "data.heating[8408]= 'Norveški radijatori'\n",
    "data.heating[8410]= 'Norveški radijatori'\n",
    "data.heating[9373]= 'Norveški radijatori'\n",
    "data.heating[9626]= 'Norveški radijatori'\n",
    "data.heating[9719]= 'Norveški radijatori'\n",
    "data.heating[10365]='Norveški radijatori'\n",
    "data.heating[10366]='Norveški radijatori'\n",
    "data.heating[10367]='Norveški radijatori'\n",
    "data.heating[10797]='Norveški radijatori'\n",
    "data.heating[12788]='Norveški radijatori'\n",
    "data.heating[12801]='Norveški radijatori'\n",
    "data.heating[13153]='Norveški radijatori'\n",
    "data.heating[13257]='Norveški radijatori'\n",
    "data.heating[14039]='Norveški radijatori'\n",
    "data.heating[16834]='Norveški radijatori'"
   ]
  },
  {
   "cell_type": "code",
   "execution_count": 19,
   "metadata": {
    "hideCode": false,
    "hidePrompt": false
   },
   "outputs": [
    {
     "name": "stdout",
     "output_type": "stream",
     "text": [
      "14214 None Banjica , Porodice Trajkovic, 96m2, 4.0,terasa, stan u kuci sa zasebnim ulazom i brojilom za struju ,grejanje kombinovano( struja i cvrsto gorivo),...\n",
      "14214 None Banjica , Porodice Trajkovic, 96m2, 4.0,terasa, stan u kuci sa zasebnim ulazom i brojilom za struju ,grejanje kombinovano( struja i cvrsto gorivo),...\n"
     ]
    }
   ],
   "source": [
    "for j in range(0, len(description)):\n",
    "    for i in description[j].split():\n",
    "        if (i=='struja' or i=='struju' or i=='struje' or i=='elektricno') and data.heating[j]==None:\n",
    "            print(j, data.heating[j], description[j])"
   ]
  },
  {
   "cell_type": "code",
   "execution_count": 20,
   "metadata": {
    "hideCode": false,
    "hidePrompt": false
   },
   "outputs": [],
   "source": [
    "data.heating[14214]='EG'"
   ]
  },
  {
   "cell_type": "code",
   "execution_count": 21,
   "metadata": {
    "hideCode": false,
    "hidePrompt": false
   },
   "outputs": [
    {
     "name": "stdout",
     "output_type": "stream",
     "text": [
      "4763 None Agencijski ID: 17667, 3/4, terasa, nov, dobar, novogradnja, nova, mogućnost proširenja, stambena zgrada, gradjevinska dozvola, podno grejanje.....\n",
      "5462 None Dedinje, luksuzna novogradnja, stan 115m2  + 16m2 ostava + 95m2 terasa + 2 garažna mesta po 15m2, bazen, „smart house system“, podno i zidno...\n",
      "6431 None Stan se nalazi u luksuznoj novogradnji, ima interfon, video nadzor, miran kraj, vrhunska keramika, stolarija, podno grejanje. Agencijska provizija:...\n",
      "6495 None Novogradnja, dvosoban, komforan stan u zgradi sa sedam stanova, podno grejanje, parking, veliki dnevni boravak sa trpezarijom i kuhinjom, dve spavaće...\n",
      "6497 None Komforan dvosoban stan u novogradnji, veliki dnevni boravak sa trpezarijom i kuhinjom, spavaća soba, kupatilo i velika terasa, podno grejanje,...\n",
      "6512 None Vračar, Kalenić - Mileševska 55m2 2.0, 55m2, pr/7, lift, mermoterm, podrum, interfon, ktv Mileševska ulica paralelno sa ulicom cara Nikolaja II,...\n",
      "14644 None Zemun, Zemun Polje - Braće Krnješevac 2.0, 60m2 (terasa 4m2), VPR/1, mermoterm, klima, podrum, doplata za montažno garažno mesto površine 12m2 je...\n"
     ]
    }
   ],
   "source": [
    "for j in range(0, len(description)):\n",
    "    for i in description[j].split():\n",
    "        if (i=='podno' or i=='podno,' or i=='mermoterm'or i=='mermoterm,') and data.heating[j]==None:\n",
    "            print(j, data.heating[j], description[j])"
   ]
  },
  {
   "cell_type": "code",
   "execution_count": 22,
   "metadata": {
    "hideCode": false,
    "hidePrompt": false
   },
   "outputs": [],
   "source": [
    "data.heating[4763]='Podno'\n",
    "data.heating[5462]='Podno'\n",
    "data.heating[6431]='Podno'\n",
    "data.heating[6495]='Podno'\n",
    "data.heating[6497]='Podno'\n",
    "\n",
    "data.heating[6512]='Mermerni radijatori'\n",
    "data.heating[14644]='Mermerni radijatori'"
   ]
  },
  {
   "cell_type": "code",
   "execution_count": 23,
   "metadata": {
    "hideCode": false,
    "hidePrompt": false
   },
   "outputs": [
    {
     "name": "stdout",
     "output_type": "stream",
     "text": [
      "4557 None Kompletno je renoviran. Grejanje - inverter. Odlicna lokacija. Prostorije; hodnik, dnevana soba, spavaca sosba, kupatilo, kuhinja + trpezarija...\n",
      "6265 None Funkcionalan trosoban stan u zgradi od crvene fasadne cigle na Galenici. Renoviran i održavan. Minimalna ulaganja. Centralno grejanje, topla voda,...\n",
      "6368 None Useljiva, renovirana garsonjera u privatnoj stambenoj zgradi sa kuhinjom. Grejanje na inverter klimu. Prostorije: kupatilo, hodnik, kombinovana soba...\n",
      "9519 None (agencijska provizija 2%) Prelep stan, uknjižen, zapadno orijentisan u novogradnji. Ima svoje numerisano parking mesto i podrum. Grejanje je na...\n",
      "15848 None Stan se nalazi u zgradi iz 2015. godine i u odličnom je stanju. Uz stan ide i parking mesto. PVC stolarija, laminat, podna keramika, etažno grejanje...\n",
      "18022 None Komforan, svetao dvosoban stan, 52m2 u naselju Braće Jerković,150m iznad okretnice autobusa 26. Novogradnja iz 2010 godine. Grejanje sa ugradjenim...\n"
     ]
    }
   ],
   "source": [
    "for j in range(0, len(description)):\n",
    "    for i in description[j].split():\n",
    "        if (i=='grejanje,' or i=='grejanje.' or i=='grejanje,...' or i=='grejanje...' or i=='Grejanje') and data.heating[j]==None:\n",
    "            print(j, data.heating[j], description[j])"
   ]
  },
  {
   "cell_type": "code",
   "execution_count": 24,
   "metadata": {
    "hideCode": false,
    "hidePrompt": false
   },
   "outputs": [],
   "source": [
    "data.heating[6265]='CG'\n",
    "data.heating[4557]='EG'\n",
    "data.heating[9519]='EG'\n",
    "data.heating[18022]='Gas'"
   ]
  },
  {
   "cell_type": "code",
   "execution_count": 25,
   "metadata": {
    "hideCode": false,
    "hidePrompt": false
   },
   "outputs": [
    {
     "name": "stdout",
     "output_type": "stream",
     "text": [
      "2133 None P=99m² + terasa, trosoban sa devojačkom sobom, 2 mokra čvora, na 1. spratu, podrum, spratnost objekta: P+1+ tavan grejanje: etažno, odmah useljiv -...\n",
      "15848 None Stan se nalazi u zgradi iz 2015. godine i u odličnom je stanju. Uz stan ide i parking mesto. PVC stolarija, laminat, podna keramika, etažno grejanje...\n"
     ]
    }
   ],
   "source": [
    "for j in range(0, len(description)):\n",
    "    for i in description[j].split():\n",
    "        if (i=='etazno' or i=='etažno' or i=='etazno,' or i=='etažno,') and data.heating[j]==None:\n",
    "            print(j, data.heating[j], description[j])"
   ]
  },
  {
   "cell_type": "code",
   "execution_count": 26,
   "metadata": {
    "hideCode": false,
    "hidePrompt": false
   },
   "outputs": [],
   "source": [
    "data.heating[2133]='EG'\n",
    "data.heating[15848]='EG'"
   ]
  },
  {
   "cell_type": "code",
   "execution_count": 27,
   "metadata": {
    "hideCode": false,
    "hidePrompt": false
   },
   "outputs": [
    {
     "name": "stdout",
     "output_type": "stream",
     "text": [
      "449 None Zvezdara, Cvetkova pijaca - Podujevska 3.0, 54m2 + terasa 5m2, 2/6, inverter klima, lift Trosoban stan u neposrednoj blizini Cvetkove pijace. U stanu...\n",
      "3004 None Zvezdara, Cvetkova pijaca - Podujevska 4.0, 123m2 (terasa 8m2), 6/6, lift, inverter klima, interfon. Veoma komforan i luksuzan četvorosoban stan u...\n",
      "6368 None Useljiva, renovirana garsonjera u privatnoj stambenoj zgradi sa kuhinjom. Grejanje na inverter klimu. Prostorije: kupatilo, hodnik, kombinovana soba...\n",
      "15156 None Stan se sastoji iz III nivoa, sa mogućnošću odvajanja dve stambene jedinice sa dva brojila za struju. Grejenje inverter klimama (kvalitetne i...\n",
      "16371 None Nov stan od 65kvm, dvoiposoban po strukturi, duplex, na II i III/III sprata, inverter klima, telefon, ktv, internet, interfon, laminat, pvc...\n"
     ]
    }
   ],
   "source": [
    "for j in range(0, len(description)):\n",
    "    for i in description[j].split():\n",
    "        if (i=='inverter') and data.heating[j]==None:\n",
    "            print(j, data.heating[j], description[j])"
   ]
  },
  {
   "cell_type": "code",
   "execution_count": 28,
   "metadata": {
    "hideCode": false,
    "hidePrompt": false
   },
   "outputs": [],
   "source": [
    "data.heating[449]='EG'\n",
    "data.heating[3004]='EG'\n",
    "data.heating[6368]='EG'\n",
    "data.heating[15156]='EG'\n",
    "data.heating[16371]='EG'"
   ]
  },
  {
   "cell_type": "markdown",
   "metadata": {
    "hideCode": false,
    "hidePrompt": false
   },
   "source": [
    "Trying to find most common heating type per location."
   ]
  },
  {
   "cell_type": "code",
   "execution_count": 29,
   "metadata": {
    "hideCode": false,
    "hidePrompt": false
   },
   "outputs": [
    {
     "data": {
      "text/plain": [
       "heating  location                      \n",
       "EG       Mirijevo                          554\n",
       "CG       Centar                            457\n",
       "         Mirijevo                          401\n",
       "         Beograd na vodi                   364\n",
       "         Kalenić pijaca                    320\n",
       "         Banovo brdo                       310\n",
       "         Crveni krst                       238\n",
       "TA       Centar                            221\n",
       "EG       Centar                            218\n",
       "CG       Hram svetog Save                  206\n",
       "         Miljakovac                        202\n",
       "TA       Karaburma                         188\n",
       "CG       Braće Jerković                    182\n",
       "         Dorćol                            173\n",
       "         Vidikovac                         165\n",
       "         Južni bulevar                     159\n",
       "         Borča                             158\n",
       "         Đeram pijaca                      152\n",
       "         Banjica                           146\n",
       "EG       Lekino brdo                       130\n",
       "CG       Višnjička Banja                   129\n",
       "EG       Karaburma                         128\n",
       "CG       Blok 45 (TC Enjub)                127\n",
       "         Lekino brdo                       119\n",
       "EG       Ledine                            113\n",
       "CG       Kanarevo brdo                     112\n",
       "         Vukov Spomenik                    110\n",
       "EG       Dedinje                           109\n",
       "CG       Dedinje                           109\n",
       "         Lion                              107\n",
       "EG       Altina                             99\n",
       "CG       Hotel Jugoslavija                  97\n",
       "EG       Braće Jerković                     97\n",
       "CG       Krunska                            95\n",
       "TA       Dorćol                             95\n",
       "         Borča                              92\n",
       "CG       Cerak vinogradi                    91\n",
       "         Batajnica                          90\n",
       "         Blok 70 (kineski tržni centar)     89\n",
       "EG       Višnjička Banja                    87\n",
       "CG       Stari Merkator                     85\n",
       "         Konjarnik                          84\n",
       "EG       Borča                              82\n",
       "CG       Karaburma                          82\n",
       "         Čubura                             81\n",
       "         Bulevar kralja Aleksandra          77\n",
       "         Dr Ivana Ribara                    77\n",
       "EG       Cvetkova pijaca                    75\n",
       "CG       Voždovačka crkva                   74\n",
       "         Blok 63                            74\n",
       "Name: location, dtype: int64"
      ]
     },
     "execution_count": 29,
     "metadata": {},
     "output_type": "execute_result"
    }
   ],
   "source": [
    "# The most common type of heating per location\n",
    "data.groupby(['heating','location'])['location'].count().sort_values(ascending=False).head(50)"
   ]
  },
  {
   "cell_type": "code",
   "execution_count": 30,
   "metadata": {
    "hideCode": false,
    "hidePrompt": false
   },
   "outputs": [
    {
     "name": "stdout",
     "output_type": "stream",
     "text": [
      "70 None Lekino brdo\n",
      "71 None Lekino brdo\n",
      "93 None Crveni krst\n",
      "96 None Crveni krst\n",
      "116 None Lekino brdo\n",
      "120 None Višnjička Banja\n",
      "121 None Višnjička Banja\n",
      "211 None Sremčica\n",
      "248 None Kumodraž\n",
      "290 None Slavujev venac\n",
      "323 None Crveni krst\n",
      "334 None Donji grad\n",
      "478 None Retenzija\n",
      "527 None Vojvode Vlahovića\n",
      "528 None Sremčica\n",
      "717 None Crveni krst\n",
      "745 None Blok 61\n",
      "795 None Marija Bursać\n",
      "798 None Crveni krst\n",
      "799 None Crveni krst\n",
      "804 None Crveni krst\n",
      "842 None Tašmajdan\n",
      "855 None Slavija\n",
      "860 None Fontana\n",
      "868 None Crveni krst\n",
      "882 None Višnjička Banja\n",
      "884 None Višnjička Banja\n",
      "885 None Višnjička Banja\n",
      "886 None Višnjička Banja\n",
      "887 None Višnjička Banja\n",
      "888 None Višnjička Banja\n",
      "909 None Ruzveltova\n",
      "918 None Stari Merkator\n",
      "974 None Hotel Hyatt\n",
      "1251 None Kopitareva gradina\n",
      "1298 None Cerak vinogradi\n",
      "1302 None Slavujev venac\n",
      "1310 None Vojvode Stepe\n",
      "1312 None Mirijevo\n",
      "1315 None Mirijevo\n",
      "1320 None Mirijevo\n",
      "1323 None Mirijevo\n",
      "1331 None Kumodraž\n",
      "1332 None Karaburma\n",
      "1336 None Mirijevo\n",
      "1337 None Karaburma\n",
      "1352 None Zemun polje\n",
      "1414 None Tošin bunar\n",
      "1442 None Žarkovo\n",
      "1563 None Banovo brdo\n",
      "1576 None Labudovo brdo\n",
      "1598 None Centar\n",
      "1602 None Kneževac\n",
      "1627 None Žarkovo\n",
      "1630 None Cerak\n",
      "1632 None Sremčica\n",
      "1649 None Čubura\n",
      "1676 None Gundulićev venac\n",
      "1677 None Gundulićev venac\n",
      "1678 None Gundulićev venac\n",
      "1679 None Gundulićev venac\n",
      "1680 None Gundulićev venac\n",
      "1728 None Vidikovačka padina\n",
      "1810 None Centar\n",
      "1828 None Centar\n",
      "1832 None Vojvode Stepe\n",
      "1833 None Mirijevo\n",
      "1881 None Kalenić pijaca\n",
      "1917 None Vrčin\n",
      "1952 None Kaluđerica\n",
      "2024 None Zemun polje\n",
      "2052 None Mirijevo\n",
      "2076 None Borča\n",
      "2089 None Ugrinovačka\n",
      "2161 None Mirijevo\n",
      "2162 None Mirijevo\n",
      "2163 None Mirijevo\n",
      "2164 None Mirijevo\n",
      "2166 None Mirijevo\n",
      "2220 None Konjarnik\n",
      "2221 None Konjarnik\n",
      "2222 None Konjarnik\n",
      "2223 None Konjarnik\n",
      "2231 None Dimitrija Tucovića\n",
      "2269 None Bele vode\n",
      "2410 None Dorćol\n",
      "2415 None Gospodara Vučića\n",
      "2498 None Mirijevo\n",
      "2517 None Umka\n",
      "2647 None Slavija\n",
      "2726 None Hram svetog Save\n",
      "2757 None Slavija\n",
      "2819 None Gradska bolnica\n",
      "2830 None Bogoslovija\n",
      "2863 None Žarkovo\n",
      "2868 None Trg Republike\n",
      "2876 None Dorćol\n",
      "2907 None Centar\n",
      "2997 None Dedinje\n",
      "3110 None Kalenić pijaca\n",
      "3196 None Ćalije\n",
      "3224 None Kaluđerica\n",
      "3280 None Altina\n",
      "3285 None Slavija\n",
      "3407 None Lipov lad\n",
      "3465 None Zaplanjska\n",
      "3501 None Čubura\n",
      "3526 None Gornji grad\n",
      "3533 None Dorćol\n",
      "3575 None Topličin venac\n",
      "3591 None Dorćol\n",
      "3655 None Dedinje\n",
      "3695 None Bioskop Voždovac\n",
      "3697 None Obilićev venac\n",
      "3713 None Slavija\n",
      "3717 None Petlovo brdo\n",
      "3725 None Učiteljsko naselje\n",
      "3727 None Meandri\n",
      "3728 None Olimp\n",
      "3787 None Borča\n",
      "3826 None Dorćol\n",
      "3828 None Banovo brdo\n",
      "3831 None Gradić Pejton\n",
      "3833 None Kumodraška\n",
      "3835 None Banovo brdo\n",
      "3836 None Banovo brdo\n",
      "3837 None Banovo brdo\n",
      "3878 None Voždovačka crkva\n",
      "4061 None Bulbulder\n",
      "4090 None Miljakovac\n",
      "4091 None Gradska bolnica\n",
      "4104 None Centar\n",
      "4105 None Centar\n",
      "4108 None Senjak\n",
      "4111 None Dr Ivana Ribara\n",
      "4143 None Batajnica\n",
      "4171 None Senjak\n",
      "4223 None Centar\n",
      "4263 None Palilulska pijaca\n",
      "4279 None Retenzija\n",
      "4287 None Dedinje\n",
      "4288 None Golf\n",
      "4309 None Kanarevo brdo\n",
      "4321 None Paviljoni\n",
      "4339 None Karađorđev park\n",
      "4397 None Karaburma\n",
      "4465 None Crveni krst\n",
      "4481 None Lekino brdo\n",
      "4516 None Hotel M\n",
      "4517 None Gornji grad\n",
      "4518 None Gornji grad\n",
      "4523 None Ledine\n",
      "4524 None Ledine\n",
      "4525 None Ledine\n",
      "4587 None Vojvode Vlahovića\n",
      "4615 None Đeram pijaca\n",
      "4676 None Bulevar kralja Aleksandra\n",
      "4677 None Cvetkova pijaca\n",
      "4678 None Cvetkova pijaca\n",
      "4679 None Cvetkova pijaca\n",
      "4718 None Dorćol\n",
      "4719 None Dorćol\n",
      "4720 None Dorćol\n",
      "4725 None Hadžipopovac\n",
      "4756 None Karaburma\n",
      "4760 None Centar\n",
      "4764 None Cvetkova pijaca\n",
      "4766 None Palilulska pijaca\n",
      "4789 None Gundulićev venac\n",
      "4806 None Krunska\n",
      "4808 None Bulevar kralja Aleksandra\n",
      "4839 None Đeram pijaca\n",
      "4851 None Marija Bursać\n",
      "4870 None Bulevar despota Stefana\n",
      "4889 None Bulevar kralja Aleksandra\n",
      "4919 None Braće Jerković\n",
      "5058 None Karaburma\n",
      "5131 None Dorćol\n",
      "5191 None Batajnica\n",
      "5211 None Miljakovac\n",
      "5265 None Mirijevo\n",
      "5299 None Karaburma\n",
      "5300 None Karaburma\n",
      "5301 None Karaburma\n",
      "5302 None Karaburma\n",
      "5303 None Karaburma\n",
      "5304 None Karaburma\n",
      "5305 None Karaburma\n",
      "5334 None Kalenić pijaca\n",
      "5346 None Centar\n",
      "5348 None Crveni krst\n",
      "5352 None Železnik\n",
      "5362 None Centar\n",
      "5373 None Paviljoni\n",
      "5378 None Ovča\n",
      "5403 None Banovo brdo\n",
      "5428 None Miljakovac\n",
      "5499 None Gradska bolnica\n",
      "5500 None Južni bulevar\n",
      "5503 None Kneževac\n",
      "5512 None Borča\n",
      "5518 None Mirijevo\n",
      "5746 None Kalemegdan\n",
      "5835 None Braće Jerković\n",
      "5843 None Kej\n",
      "5935 None Zvezdarska šuma\n",
      "5961 None Kalenić pijaca\n",
      "5966 None Gornji grad\n",
      "5990 None Lion\n",
      "6049 None Ledine\n",
      "6055 None Đeram pijaca\n",
      "6159 None Borča\n",
      "6163 None Borča\n",
      "6230 None Vidikovac\n",
      "6235 None Paviljoni\n",
      "6250 None Novi grad\n",
      "6254 None Bele vode\n",
      "6257 None Žarkovo\n",
      "6264 None Blok 62\n",
      "6281 None Zemun polje\n",
      "6285 None Kalenić pijaca\n",
      "6303 None Mirijevo\n",
      "6340 None Đeram pijaca\n",
      "6351 None SC Vračar\n",
      "6367 None Profesorska kolonija\n",
      "6369 None Ledine\n",
      "6370 None Ledine\n",
      "6399 None Batajnica\n",
      "6401 None Batajnica\n",
      "6407 None Južni bulevar\n",
      "6409 None Gornji grad\n",
      "6411 None Batajnica\n",
      "6453 None Petlovo brdo\n",
      "6482 None Krnjača\n",
      "6490 None Paviljoni\n",
      "6493 None Mirijevo\n",
      "6494 None Ledine\n",
      "6502 None Filmski grad\n",
      "6536 None Kalenić pijaca\n",
      "6636 None Dorćol\n",
      "6696 None Grocka (mesto)\n",
      "6709 None Krnjača\n",
      "6723 None Kalemegdan\n",
      "6731 None Slavija\n",
      "6831 None Mirijevo\n",
      "6854 None Blok 23\n",
      "6877 None Slavija\n",
      "6890 None Karaburma\n",
      "6905 None Banovo brdo\n",
      "6978 None Borča\n",
      "6982 None Braće Jerković\n",
      "6983 None Tašmajdan\n",
      "7012 None Centar\n",
      "7026 None YUBC\n",
      "7110 None Mirijevo\n",
      "7111 None Mirijevo\n",
      "7182 None Galenika\n",
      "7200 None Dorćol\n",
      "7217 None Dorćol\n",
      "7248 None Mirijevo\n",
      "7251 None Kneževac\n",
      "7256 None Kaluđerica\n",
      "7257 None Višnjica\n",
      "7258 None Braće Jerković\n",
      "7259 None Mirijevo\n",
      "7260 None Mirijevo\n",
      "7261 None Mirijevo\n",
      "7262 None Mirijevo\n",
      "7263 None Mirijevo\n",
      "7264 None Mirijevo\n",
      "7277 None Mirijevo\n",
      "7287 None Železnik\n",
      "7295 None Dorćol\n",
      "7299 None Dedinje\n",
      "7303 None Dorćol\n",
      "7319 None Dorćol\n",
      "7320 None Dorćol\n",
      "7321 None Dorćol\n",
      "7322 None Dorćol\n",
      "7347 None Učiteljsko naselje\n",
      "7379 None Karaburma\n",
      "8131 None Medaković 2\n",
      "8212 None Medaković 2\n",
      "8301 None Rušanj\n",
      "8336 None Konjarnik\n",
      "8344 None Sremčica\n",
      "8411 None Mirijevo\n",
      "8420 None Čubura\n",
      "8480 None Banovo brdo\n",
      "8520 None Trgovačka\n",
      "8551 None Mirijevo\n",
      "8566 None Banovo brdo\n",
      "8748 None Stari Merkator\n",
      "8776 None Centar\n",
      "8818 None Kneza Miloša\n",
      "8827 None Bežanijska kosa 1\n",
      "8852 None Banovo brdo\n",
      "8942 None Gundulićev venac\n",
      "8974 None Južni bulevar\n",
      "9062 None Mirijevo\n",
      "9063 None Mirijevo\n",
      "9069 None Braće Jerković\n",
      "9120 None Petlovo brdo\n",
      "9188 None Centar\n",
      "9349 None Lisičji potok\n",
      "9352 None Dedinje\n",
      "9386 None Borča\n",
      "9409 None Borča\n",
      "9482 None Lion\n",
      "9507 None Botanička bašta\n",
      "9555 None Vidikovac\n",
      "9577 None Žarkovo\n",
      "9578 None Žarkovo\n",
      "9579 None Žarkovo\n",
      "9580 None Žarkovo\n",
      "9581 None Žarkovo\n",
      "9582 None Žarkovo\n",
      "9583 None Žarkovo\n",
      "9585 None Žarkovo\n",
      "9586 None Žarkovo\n",
      "9587 None Žarkovo\n",
      "9588 None Žarkovo\n",
      "9589 None Žarkovo\n",
      "9590 None Žarkovo\n",
      "9591 None Žarkovo\n",
      "9592 None Žarkovo\n",
      "9604 None Mirijevo\n",
      "9605 None Mirijevo\n",
      "9606 None Mirijevo\n",
      "9669 None Centar\n",
      "9795 None Dedinje\n",
      "9843 None Botanička bašta\n",
      "9890 None Banovo brdo\n",
      "9961 None Lekino brdo\n",
      "10004 None Hram svetog Save\n",
      "10014 None Hram svetog Save\n",
      "10019 None Centar\n",
      "10037 None Mirijevo\n",
      "10038 None Medaković 2\n",
      "10058 None Mirijevo\n",
      "10061 None Vojvode Vlahovića\n",
      "10064 None Vojvode Vlahovića\n",
      "10084 None Banovo brdo\n",
      "10090 None Centar\n",
      "10144 None Centar\n",
      "10166 None Blok 21\n",
      "10190 None Mirijevo\n",
      "10191 None Mirijevo\n",
      "10208 None Borča\n",
      "10209 None Borča\n",
      "10210 None Borča\n",
      "10211 None Borča\n",
      "10212 None Borča\n",
      "10238 None Karaburma\n",
      "10329 None Kalenić pijaca\n",
      "10396 None Kolonija Zmaj\n",
      "10398 None Batajnica\n",
      "10506 None Bulbulder\n",
      "10577 None Altina\n",
      "10595 None Borča\n",
      "10596 None Borča\n",
      "10608 None Profesorska kolonija\n",
      "10609 None Borča\n",
      "10615 None Borča\n",
      "10616 None Cvetanova ćuprija\n",
      "10617 None Kotež\n",
      "10620 None Denkova bašta\n",
      "10628 None Blok 37\n",
      "10643 None Kosančićev venac\n",
      "10668 None Bele vode\n",
      "10717 None Batajnica\n",
      "10824 None Cvetanova ćuprija\n",
      "10829 None Cvetanova ćuprija\n",
      "10935 None Prvomajska\n",
      "10943 None Dedinje\n",
      "10944 None Centar\n",
      "10946 None Takovska\n",
      "10972 None Kneževac\n",
      "11050 None Plavi horizonti\n",
      "11051 None Plavi horizonti\n",
      "11077 None Banovo brdo\n",
      "11083 None Hotel Jugoslavija\n",
      "11162 None Žarkovo\n",
      "11237 None Cvetkova pijaca\n",
      "11276 None Đeram pijaca\n",
      "11277 None Dedinje\n",
      "11328 None Borča\n",
      "11433 None Centar\n",
      "11435 None Miljakovac\n",
      "11443 None Braće Jerković\n",
      "11458 None Centar\n",
      "11470 None Centar\n",
      "11534 None Gradska bolnica\n",
      "11550 None Banovo brdo\n",
      "11591 None Mirijevo\n",
      "11605 None Mali Mokri Lug\n",
      "11618 None Zeleno brdo\n",
      "11619 None Zeleno brdo\n",
      "11625 None Mirijevo\n",
      "11629 None Mirijevo\n",
      "11631 None Mirijevo\n",
      "11632 None Mirijevo\n",
      "11633 None Mirijevo\n",
      "11661 None Kotež\n",
      "11673 None Cvetkova pijaca\n",
      "11710 None Kneza Miloša\n",
      "11742 None Zemun polje\n",
      "11754 None Hram svetog Save\n",
      "11834 None Centar\n",
      "11837 None Lion\n",
      "11852 None Centar\n",
      "11870 None Lekino brdo\n",
      "11896 None Krunska\n",
      "11898 None Krunska\n",
      "12044 None Gundulićev venac\n",
      "12067 None Centar\n",
      "12135 None Braće Jerković\n",
      "12164 None Paviljoni\n",
      "12170 None Dorćol\n",
      "12174 None Dedinje\n",
      "12181 None Crveni krst\n",
      "12187 None Mirijevo\n",
      "12208 None Gundulićev venac\n",
      "12210 None Senjak\n",
      "12225 None Opština\n",
      "12280 None Lekino brdo\n",
      "12304 None Mirijevo\n",
      "12305 None Mirijevo\n",
      "12306 None Mirijevo\n",
      "12307 None Mirijevo\n",
      "12308 None Mirijevo\n",
      "12309 None Mirijevo\n",
      "12310 None Mirijevo\n",
      "12354 None Borča\n",
      "12361 None Senjak\n",
      "12368 None Kanarevo brdo\n",
      "12379 None Bulevar oslobođenja\n",
      "12386 None Braće Jerković\n",
      "12392 None Vukov Spomenik\n",
      "12396 None Južni bulevar\n",
      "12397 None Južni bulevar\n",
      "12468 None Miljakovac\n",
      "12469 None Miljakovac\n",
      "12470 None Miljakovac\n",
      "12473 None Cvetanova ćuprija\n",
      "12474 None Cvetanova ćuprija\n",
      "12501 None Centar\n",
      "12505 None Centar\n",
      "12530 None Mirijevo\n",
      "12531 None Krnjača\n",
      "12535 None Zeleno brdo\n",
      "12546 None Bulevar kralja Aleksandra\n",
      "12552 None Cara Dušana\n",
      "12562 None Vojvode Vlahovića\n",
      "12571 None Zemun Bačka\n",
      "12576 None Autokomanda\n",
      "12579 None Autokomanda\n",
      "12580 None Autokomanda\n",
      "12582 None Autokomanda\n",
      "12585 None Cerak\n",
      "12586 None Mirijevo\n",
      "12587 None Mirijevo\n",
      "12588 None Mirijevo\n",
      "12589 None Mirijevo\n",
      "12590 None Mirijevo\n",
      "12591 None Mirijevo\n",
      "12592 None Mirijevo\n",
      "12596 None Zvezdarska šuma\n",
      "12600 None Sarajevska\n",
      "12603 None Zeleni venac\n",
      "12649 None Mirijevo\n",
      "12650 None Mirijevo\n",
      "12658 None Dunavski kej\n",
      "12668 None Mirijevo\n",
      "12669 None Mirijevo\n",
      "12670 None Mirijevo\n",
      "12671 None Mirijevo\n",
      "12672 None Mirijevo\n",
      "12673 None Mirijevo\n",
      "12674 None Mirijevo\n",
      "12675 None Mirijevo\n",
      "12676 None Mirijevo\n",
      "12677 None Mirijevo\n",
      "12684 None Južni bulevar\n",
      "12737 None Dušanovac\n",
      "12759 None Borča Greda\n",
      "12859 None Vojvode Stepe\n",
      "12935 None Karaburma\n",
      "12942 None Borča\n",
      "12988 None Beograd na vodi\n"
     ]
    },
    {
     "name": "stdout",
     "output_type": "stream",
     "text": [
      "13020 None Miljakovac\n",
      "13024 None Železnik\n",
      "13025 None Banovo brdo\n",
      "13028 None Mirijevo\n",
      "13096 None Senjak\n",
      "13100 None Senjak\n",
      "13101 None Senjak\n",
      "13104 None Senjak\n",
      "13139 None Cvetkova pijaca\n",
      "13150 None Krunska\n",
      "13199 None Medaković 3\n",
      "13203 None Gornji grad\n",
      "13232 None Banjica\n",
      "13244 None Resnik\n",
      "13278 None Dedinje\n",
      "13334 None Centar\n",
      "13427 None Kotež\n",
      "13469 None Slavija\n",
      "13523 None Kneževac\n",
      "13550 None Kanarevo brdo\n",
      "13577 None Gornji grad\n",
      "13644 None Vukov Spomenik\n",
      "13645 None Banovo brdo\n",
      "13647 None Vukov Spomenik\n",
      "13661 None Crveni krst\n",
      "13662 None Vitanovačka\n",
      "13663 None Banjica\n",
      "13677 None Blok 44 (TC Piramida)\n",
      "13678 None Mirijevo\n",
      "13749 None Mirijevo\n",
      "13750 None Mirijevo\n",
      "13800 None Kalenić pijaca\n",
      "13846 None Kluz\n",
      "13847 None Kluz\n",
      "13848 None Kluz\n",
      "13850 None Kluz\n",
      "13851 None Kluz\n",
      "14041 None Karaburma\n",
      "14043 None Karaburma\n",
      "14157 None Zemun polje\n",
      "14167 None Kotež\n",
      "14196 None Altina\n",
      "14212 None Gardoš\n",
      "14292 None Učiteljsko naselje\n",
      "14326 None Paviljoni\n",
      "14331 None Bogoslovija\n",
      "14404 None Južni bulevar\n",
      "14439 None Beograd na vodi\n",
      "14451 None Bogoslovija\n",
      "14459 None Beograd na vodi\n",
      "14460 None Centar\n",
      "14491 None Novi grad\n",
      "14556 None Palata pravde\n",
      "14557 None Palata pravde\n",
      "14601 None Kopitareva gradina\n",
      "14627 None Kluz\n",
      "14633 None Vidikovačka padina\n",
      "14634 None Vidikovačka padina\n",
      "14645 None Blok 62\n",
      "14646 None Kalenić pijaca\n",
      "14667 None Žarkovo\n",
      "14721 None Vidikovac\n",
      "14737 None Đeram pijaca\n",
      "14773 None Dorćol\n",
      "14774 None Slavija\n",
      "14788 None Vidikovačka padina\n",
      "14934 None Zemun polje\n",
      "15065 None Stara Bežanija\n",
      "15106 None Kumodraž\n",
      "15124 None Zeleno brdo\n",
      "15125 None Cerak\n",
      "15127 None Karaburma\n",
      "15141 None Kumodraž\n",
      "15293 None Višnjička Banja\n",
      "15332 None Mirijevo\n",
      "15356 None Hram svetog Save\n",
      "15358 None Mirijevo\n",
      "15366 None Cvetkova pijaca\n",
      "15394 None Hram svetog Save\n",
      "15455 None Gornji grad\n",
      "15523 None Centar\n",
      "15590 None Stari Košutnjak\n",
      "15654 None Sremčica\n",
      "15732 None Prvomajska\n",
      "15789 None Batajnica\n",
      "15793 None Ledine\n",
      "15799 None Karaburma\n",
      "15822 None Đeram pijaca\n",
      "15856 None Padinska skela\n",
      "15858 None Borča\n",
      "15866 None Borča\n",
      "15868 None Padinska skela\n",
      "15871 None Kotež\n",
      "15967 None Dedinje\n",
      "15968 None Dedinje\n",
      "16016 None Učiteljsko naselje\n",
      "16020 None Kalenić pijaca\n",
      "16027 None Slavija\n",
      "16043 None Braće Jerković\n",
      "16052 None Lekino brdo\n",
      "16060 None Cvetni trg\n",
      "16063 None Vojvode Vlahovića\n",
      "16066 None Banovo brdo\n",
      "16067 None Krnjača\n",
      "16078 None Žarkovo\n",
      "16082 None Mirijevo\n",
      "16083 None Mirijevo\n",
      "16090 None Mirijevo\n",
      "16093 None Dušanovac\n",
      "16096 None Mirijevo\n",
      "16097 None Mirijevo\n",
      "16098 None Mirijevo\n",
      "16099 None Mirijevo\n",
      "16100 None Mirijevo\n",
      "16101 None Mirijevo\n",
      "16107 None Kneževac\n",
      "16133 None Blok 9a\n",
      "16139 None Kneževac\n",
      "16152 None Žarkovo\n",
      "16200 None Zeleno brdo\n",
      "16212 None Mirijevo\n",
      "16241 None Gornji grad\n",
      "16332 None Višnjička Banja\n",
      "16358 None Petlovo brdo\n",
      "16469 None Centar\n",
      "16472 None Bulevar kralja Aleksandra\n",
      "16473 None Kaluđerica\n",
      "16484 None Donji grad\n",
      "16493 None Karaburma\n",
      "16524 None Braće Jerković\n",
      "16525 None Gornji grad\n",
      "16573 None Dorćol\n",
      "16595 None Cvetni trg\n",
      "16609 None Kalenić pijaca\n",
      "16664 None Politika\n",
      "16671 None Borča Greda\n",
      "16731 None Banovo brdo\n",
      "16827 None Blok 22\n",
      "16847 None Vojvode Stepe\n",
      "16913 None Labudovo brdo\n",
      "16921 None Klinički centar\n",
      "17011 None Farmaceutski fakultet\n",
      "17023 None Guncati\n",
      "17075 None FON - Bilećka\n",
      "17112 None Lion\n",
      "17114 None Bežanijska kosa 3\n",
      "17116 None Kotež\n",
      "17119 None Banovo brdo\n",
      "17122 None Centar\n",
      "17131 None Zemun polje\n",
      "17204 None Vidikovačka padina\n",
      "17299 None Borča\n",
      "17314 None Borča\n",
      "17318 None Borča\n",
      "17319 None Borča\n",
      "17320 None Borča\n",
      "17321 None Borča\n",
      "17332 None Borča\n",
      "17333 None Borča\n",
      "17343 None Zemun polje\n",
      "17353 None Braće Jerković\n",
      "17356 None Blok 62\n",
      "17399 None Lekino brdo\n",
      "17401 None Mirijevo\n",
      "17411 None Mirijevo\n",
      "17444 None Hram svetog Save\n",
      "17501 None Mirijevo\n",
      "17502 None Mirijevo\n",
      "17503 None Mirijevo\n",
      "17504 None Mirijevo\n",
      "17537 None Gardoš\n",
      "17562 None Novo Skojevsko naselje\n",
      "17567 None Dorćol\n",
      "17568 None Dorćol\n",
      "17569 None Dorćol\n",
      "17571 None Dorćol\n",
      "17572 None Dorćol\n",
      "17574 None Dorćol\n",
      "17575 None Dorćol\n",
      "17576 None Dorćol\n",
      "17578 None Dorćol\n",
      "17579 None Dorćol\n",
      "17581 None Dorćol\n",
      "17582 None Dorćol\n",
      "17583 None Dorćol\n",
      "17585 None Dorćol\n",
      "17586 None Dorćol\n",
      "17588 None Dorćol\n",
      "17590 None Dorćol\n",
      "17591 None Dorćol\n",
      "17592 None Dorćol\n",
      "17598 None Dorćol\n",
      "17599 None Dorćol\n",
      "17601 None Dorćol\n",
      "17602 None Dorćol\n",
      "17603 None Dorćol\n",
      "17604 None Dorćol\n",
      "17608 None Dorćol\n",
      "17611 None Dorćol\n",
      "17633 None Blok 21\n",
      "17643 None Zvezdarska šuma\n",
      "17651 None Zemun polje\n",
      "17655 None Medaković padina\n",
      "17674 None Višnjička Banja\n",
      "17675 None Višnjička Banja\n",
      "17677 None Višnjička Banja\n",
      "17678 None Višnjička Banja\n",
      "17754 None Crveni krst\n",
      "17807 None Slavija\n",
      "17812 None Crveni krst\n",
      "17864 None Kalenić pijaca\n",
      "17872 None Miljakovac\n",
      "17913 None Banovo brdo\n",
      "17989 None Dimitrija Tucovića\n",
      "18020 None Centar\n",
      "18026 None Kluz\n",
      "18131 None Zvezdarska šuma\n",
      "18134 None Banovo brdo\n",
      "18143 None Dorćol\n",
      "18152 None Banovo brdo\n",
      "18157 None Centar\n",
      "18158 None Cerak\n",
      "18159 None Centar\n",
      "18160 None Centar\n",
      "18164 None Kanarevo brdo\n",
      "18165 None Kanarevo brdo\n",
      "18220 None Hram svetog Save\n"
     ]
    }
   ],
   "source": [
    "# Heating missing value and its location\n",
    "for j in range(0, data.shape[0]):\n",
    "    if data.heating[j]==None:\n",
    "        print(j, data.heating[j], data.location[j])"
   ]
  },
  {
   "cell_type": "code",
   "execution_count": 31,
   "metadata": {
    "hideCode": false,
    "hidePrompt": false
   },
   "outputs": [],
   "source": [
    "for j in range(0, data.shape[0]):\n",
    "    if data.heating[j]==None and data.location[j]=='Lekino brdo':\n",
    "        data.heating[j]='EG'\n",
    "    elif data.heating[j]==None and data.location[j]=='Mirijevo':\n",
    "        data.heating[j]='EG'\n",
    "    elif data.heating[j]==None and data.location[j]=='Karaburma':\n",
    "        data.heating[j]='TA'\n",
    "    elif data.heating[j]==None and data.location[j]=='Banjica':\n",
    "        data.heating[j]='EG'\n",
    "    elif data.heating[j]==None and data.location[j]=='Ledine':\n",
    "        data.heating[j]='EG'\n",
    "    elif data.heating[j]==None and data.location[j]=='Altina':\n",
    "        data.heating[j]='EG'\n",
    "    elif data.heating[j]==None and data.location[j]=='Braće Jerković':\n",
    "        data.heating[j]='EG'\n",
    "    elif data.heating[j]==None and data.location[j]=='Dedinje':\n",
    "        data.heating[j]='EG'\n",
    "    elif data.heating[j]==None and data.location[j]=='Cvetkova pijaca':\n",
    "        data.heating[j]='EG'\n",
    "    elif data.heating[j]==None and data.location[j]=='Zemun polje':\n",
    "        data.heating[j]='TA'\n",
    "    elif data.heating[j]==None and data.location[j]=='Krnjača':\n",
    "        data.heating[j]='EG'\n",
    "    elif data.heating[j]==None and data.location[j]=='Gornji grad':\n",
    "        data.heating[j]='EG'\n",
    "    elif data.heating[j]==None and data.location[j]=='Žarkovo':\n",
    "        data.heating[j]='EG'\n",
    "    elif data.heating[j]==None and data.location[j]=='Učiteljsko naselje':\n",
    "        data.heating[j]='EG'\n",
    "    elif data.heating[j]==None and data.location[j]=='Batajnica':\n",
    "        data.heating[j]='EG'\n",
    "    elif data.heating[j]==None and data.location[j]=='Sremčica':\n",
    "        data.heating[j]='TA'\n",
    "    elif data.heating[j]==None and data.location[j]=='Kumodraž':\n",
    "        data.heating[j]='EG'\n",
    "    elif data.heating[j]==None and data.location[j]=='Slavujev venac':\n",
    "        data.heating[j]='EG'\n",
    "    elif data.heating[j]==None and data.location[j]=='Vojvode Vlahovića':\n",
    "        data.heating[j]='EG'\n",
    "    elif data.heating[j]==None and data.location[j]=='Marija Bursać':\n",
    "        data.heating[j]='EG'\n",
    "    elif data.heating[j]==None and data.location[j]=='Kopitareva gradina':\n",
    "        data.heating[j]='TA'\n",
    "    elif data.heating[j]==None and data.location[j]=='Vojvode Stepe':\n",
    "        data.heating[j]='EG'\n",
    "    elif data.heating[j]==None and data.location[j]=='Kneževac':\n",
    "        data.heating[j]='TA'\n",
    "    elif data.heating[j]==None and data.location[j]=='Kaluđerica':\n",
    "        data.heating[j]='TA'\n",
    "    elif data.heating[j]==None and data.location[j]=='Ugrinovačka':\n",
    "        data.heating[j]='EG'\n",
    "    elif data.heating[j]==None and data.location[j]=='Bele vode':\n",
    "        data.heating[j]='TA'\n",
    "    elif data.heating[j]==None and data.location[j]=='Gradska bolnica':\n",
    "        data.heating[j]='EG'\n",
    "    elif data.heating[j]==None and data.location[j]=='Bogoslovija':\n",
    "        data.heating[j]='EG'\n",
    "    elif data.heating[j]==None and data.location[j]=='Petlovo brdo':\n",
    "        data.heating[j]='TA'\n",
    "    elif data.heating[j]==None and data.location[j]=='Kumodraška':\n",
    "        data.heating[j]='EG'\n",
    "    elif data.heating[j]==None and data.location[j]=='Bulbulder':\n",
    "        data.heating[j]='EG'\n",
    "    elif data.heating[j]==None and data.location[j]=='Kluz':\n",
    "        data.heating[j]='EG'\n",
    "    elif data.heating[j]==None and data.location[j]=='Vidikovačka padina':\n",
    "        data.heating[j]='EG'\n",
    "    elif data.heating[j]==None and data.location[j]=='Cvetanova ćuprija':\n",
    "        data.heating[j]='EG'\n",
    "    elif data.heating[j]==None and data.location[j]=='Plavi horizonti':\n",
    "        data.heating[j]='EG'\n",
    "    elif data.heating[j]==None and data.location[j]=='Zeleno brdo':\n",
    "        data.heating[j]='EG'\n",
    "    elif data.heating[j]==None and data.location[j]=='Senjak':\n",
    "        data.heating[j]='EG'\n",
    "    elif data.heating[j]==None and data.location[j]=='Kluz':\n",
    "        data.heating[j]='EG'\n",
    "    elif data.heating[j]==None and data.location[j]=='Hotel M':\n",
    "        data.heating[j]='EG'\n",
    "    elif data.heating[j]==None and data.location[j]=='Železnik':\n",
    "        data.heating[j]='EG'\n",
    "    elif data.heating[j]==None and data.location[j]=='Novi grad':\n",
    "        data.heating[j]='EG'\n",
    "    elif data.heating[j]==None and data.location[j]=='Filmski grad':\n",
    "        data.heating[j]='Gas'\n",
    "    elif data.heating[j]==None and data.location[j]=='Višnjica':\n",
    "        data.heating[j]='EG'\n",
    "    elif data.heating[j]==None and data.location[j]=='Kotež':\n",
    "        data.heating[j]='EG'\n",
    "    elif data.heating[j]==None and data.location[j]=='Prvomajska':\n",
    "        data.heating[j]='EG'\n",
    "    elif data.heating[j]==None and data.location[j]=='Mali Mokri Lug':\n",
    "        data.heating[j]='TA'\n",
    "    elif data.heating[j]==None and data.location[j]=='Cara Dušana':\n",
    "        data.heating[j]='EG'\n",
    "    elif data.heating[j]==None and data.location[j]=='Medaković 3':\n",
    "        data.heating[j]='EG'\n",
    "    elif data.heating[j]==None and data.location[j]=='Cvetni trg':\n",
    "        data.heating[j]='EG'\n",
    "    elif data.heating[j]==None and data.location[j]=='Klinički centar':\n",
    "        data.heating[j]='EG'"
   ]
  },
  {
   "cell_type": "code",
   "execution_count": 32,
   "metadata": {
    "hideCode": false,
    "hidePrompt": false
   },
   "outputs": [],
   "source": [
    "data.heating.fillna(value='CG', inplace=True)"
   ]
  },
  {
   "cell_type": "code",
   "execution_count": 33,
   "metadata": {
    "hideCode": false,
    "hidePrompt": false
   },
   "outputs": [
    {
     "data": {
      "text/plain": [
       "advertiser                  0\n",
       "location                    0\n",
       "municipality                0\n",
       "number_of_rooms             0\n",
       "price                       0\n",
       "size                        0\n",
       "advertisement_url           0\n",
       "heating                     0\n",
       "floor                     423\n",
       "total_number_of_floors    975\n",
       "object_type                 0\n",
       "filed                       0\n",
       "balcony                     0\n",
       "parking                     0\n",
       "garage                      0\n",
       "basement                    0\n",
       "dtype: int64"
      ]
     },
     "execution_count": 33,
     "metadata": {},
     "output_type": "execute_result"
    }
   ],
   "source": [
    "data.isnull().sum()"
   ]
  },
  {
   "cell_type": "markdown",
   "metadata": {
    "hideCode": false,
    "hidePrompt": false
   },
   "source": [
    "The rest of the missing data can be dropped."
   ]
  },
  {
   "cell_type": "code",
   "execution_count": 34,
   "metadata": {
    "hideCode": false,
    "hidePrompt": false
   },
   "outputs": [],
   "source": [
    "data.dropna(inplace=True)"
   ]
  },
  {
   "cell_type": "code",
   "execution_count": 35,
   "metadata": {
    "hideCode": false,
    "hidePrompt": false
   },
   "outputs": [],
   "source": [
    "data.reset_index(inplace=True)\n",
    "data = data.drop(['index'], axis=1)"
   ]
  },
  {
   "cell_type": "markdown",
   "metadata": {
    "hideCode": false,
    "hidePrompt": false
   },
   "source": [
    "### Adjusting column types"
   ]
  },
  {
   "cell_type": "code",
   "execution_count": 36,
   "metadata": {
    "hideCode": false,
    "hidePrompt": false
   },
   "outputs": [
    {
     "data": {
      "text/html": [
       "<div>\n",
       "<style scoped>\n",
       "    .dataframe tbody tr th:only-of-type {\n",
       "        vertical-align: middle;\n",
       "    }\n",
       "\n",
       "    .dataframe tbody tr th {\n",
       "        vertical-align: top;\n",
       "    }\n",
       "\n",
       "    .dataframe thead th {\n",
       "        text-align: right;\n",
       "    }\n",
       "</style>\n",
       "<table border=\"1\" class=\"dataframe\">\n",
       "  <thead>\n",
       "    <tr style=\"text-align: right;\">\n",
       "      <th></th>\n",
       "      <th>total_number_of_floors</th>\n",
       "      <th>filed</th>\n",
       "      <th>balcony</th>\n",
       "      <th>parking</th>\n",
       "      <th>garage</th>\n",
       "      <th>basement</th>\n",
       "    </tr>\n",
       "  </thead>\n",
       "  <tbody>\n",
       "    <tr>\n",
       "      <th>count</th>\n",
       "      <td>17132.000000</td>\n",
       "      <td>17132.000000</td>\n",
       "      <td>17132.000000</td>\n",
       "      <td>17132.000000</td>\n",
       "      <td>17132.000000</td>\n",
       "      <td>17132.000000</td>\n",
       "    </tr>\n",
       "    <tr>\n",
       "      <th>mean</th>\n",
       "      <td>5.371877</td>\n",
       "      <td>0.734940</td>\n",
       "      <td>0.491420</td>\n",
       "      <td>0.217838</td>\n",
       "      <td>0.088139</td>\n",
       "      <td>0.235349</td>\n",
       "    </tr>\n",
       "    <tr>\n",
       "      <th>std</th>\n",
       "      <td>3.951679</td>\n",
       "      <td>0.441378</td>\n",
       "      <td>0.499941</td>\n",
       "      <td>0.412789</td>\n",
       "      <td>0.283505</td>\n",
       "      <td>0.424229</td>\n",
       "    </tr>\n",
       "    <tr>\n",
       "      <th>min</th>\n",
       "      <td>1.000000</td>\n",
       "      <td>0.000000</td>\n",
       "      <td>0.000000</td>\n",
       "      <td>0.000000</td>\n",
       "      <td>0.000000</td>\n",
       "      <td>0.000000</td>\n",
       "    </tr>\n",
       "    <tr>\n",
       "      <th>25%</th>\n",
       "      <td>3.000000</td>\n",
       "      <td>0.000000</td>\n",
       "      <td>0.000000</td>\n",
       "      <td>0.000000</td>\n",
       "      <td>0.000000</td>\n",
       "      <td>0.000000</td>\n",
       "    </tr>\n",
       "    <tr>\n",
       "      <th>50%</th>\n",
       "      <td>4.000000</td>\n",
       "      <td>1.000000</td>\n",
       "      <td>0.000000</td>\n",
       "      <td>0.000000</td>\n",
       "      <td>0.000000</td>\n",
       "      <td>0.000000</td>\n",
       "    </tr>\n",
       "    <tr>\n",
       "      <th>75%</th>\n",
       "      <td>6.000000</td>\n",
       "      <td>1.000000</td>\n",
       "      <td>1.000000</td>\n",
       "      <td>0.000000</td>\n",
       "      <td>0.000000</td>\n",
       "      <td>0.000000</td>\n",
       "    </tr>\n",
       "    <tr>\n",
       "      <th>max</th>\n",
       "      <td>30.000000</td>\n",
       "      <td>1.000000</td>\n",
       "      <td>1.000000</td>\n",
       "      <td>1.000000</td>\n",
       "      <td>1.000000</td>\n",
       "      <td>1.000000</td>\n",
       "    </tr>\n",
       "  </tbody>\n",
       "</table>\n",
       "</div>"
      ],
      "text/plain": [
       "       total_number_of_floors         filed       balcony       parking  \\\n",
       "count            17132.000000  17132.000000  17132.000000  17132.000000   \n",
       "mean                 5.371877      0.734940      0.491420      0.217838   \n",
       "std                  3.951679      0.441378      0.499941      0.412789   \n",
       "min                  1.000000      0.000000      0.000000      0.000000   \n",
       "25%                  3.000000      0.000000      0.000000      0.000000   \n",
       "50%                  4.000000      1.000000      0.000000      0.000000   \n",
       "75%                  6.000000      1.000000      1.000000      0.000000   \n",
       "max                 30.000000      1.000000      1.000000      1.000000   \n",
       "\n",
       "             garage      basement  \n",
       "count  17132.000000  17132.000000  \n",
       "mean       0.088139      0.235349  \n",
       "std        0.283505      0.424229  \n",
       "min        0.000000      0.000000  \n",
       "25%        0.000000      0.000000  \n",
       "50%        0.000000      0.000000  \n",
       "75%        0.000000      0.000000  \n",
       "max        1.000000      1.000000  "
      ]
     },
     "execution_count": 36,
     "metadata": {},
     "output_type": "execute_result"
    }
   ],
   "source": [
    "data.describe()"
   ]
  },
  {
   "cell_type": "markdown",
   "metadata": {},
   "source": [
    "Columns 'price' and 'size' should be a type of float. They are categorical and with missing zeros if the value is the amount of tens or hundreds of thousands. This is going to be fixed in next cells."
   ]
  },
  {
   "cell_type": "code",
   "execution_count": 37,
   "metadata": {
    "hideCode": false,
    "hidePrompt": false
   },
   "outputs": [],
   "source": [
    "def remove_commas(x):\n",
    "    '''\n",
    "    Removes string sings (commas and dots) from values and put them in float type.\n",
    "    '''\n",
    "\n",
    "    for i in range(0,len(x)):\n",
    "        if type(x[i])== str:\n",
    "            if ',' in x[i]:\n",
    "                x[i]=float(x[i].replace(',',''))\n",
    "            elif '.' in x[i] and len(x[i])==9:\n",
    "                x[i]=float(x[i].replace('.',''))\n",
    "    return x  "
   ]
  },
  {
   "cell_type": "code",
   "execution_count": 38,
   "metadata": {
    "hideCode": false,
    "hidePrompt": false
   },
   "outputs": [
    {
     "name": "stdout",
     "output_type": "stream",
     "text": [
      "246 ms ± 45.6 ms per loop (mean ± std. dev. of 7 runs, 1 loop each)\n"
     ]
    }
   ],
   "source": [
    "%timeit data.price=remove_commas(data.price)"
   ]
  },
  {
   "cell_type": "code",
   "execution_count": 39,
   "metadata": {
    "hideCode": false,
    "hidePrompt": false
   },
   "outputs": [],
   "source": [
    "# checking for string values\n",
    "def check_for_strings(x):\n",
    "    '''\n",
    "    Chechking if there is a string value in a column.\n",
    "    '''\n",
    "    for i in range(0,len(x)):\n",
    "        if type(x[i]) == str:\n",
    "            print(x[i])\n",
    "            return i, x[i]"
   ]
  },
  {
   "cell_type": "code",
   "execution_count": 40,
   "metadata": {
    "hideCode": false,
    "hidePrompt": false
   },
   "outputs": [
    {
     "name": "stdout",
     "output_type": "stream",
     "text": [
      "267 ms ± 48.5 ms per loop (mean ± std. dev. of 7 runs, 1 loop each)\n"
     ]
    }
   ],
   "source": [
    "%timeit check_for_strings(data.price)"
   ]
  },
  {
   "cell_type": "code",
   "execution_count": 41,
   "metadata": {},
   "outputs": [],
   "source": [
    "# Making sure that every value is of type float\n",
    "data.price=data.price.astype(float)"
   ]
  },
  {
   "cell_type": "code",
   "execution_count": 42,
   "metadata": {},
   "outputs": [],
   "source": [
    "# for 'size' column\n",
    "def replace_comma_with_dot(x):\n",
    "    '''\n",
    "    Replaces commas with dots\n",
    "    '''\n",
    "\n",
    "    for i in range(0,len(x)):\n",
    "\n",
    "        if type(x[i])== str:\n",
    "             if ',' in x[i]:\n",
    "                x[i]=float(x[i].replace(',','.'))\n",
    "\n",
    "    return x"
   ]
  },
  {
   "cell_type": "code",
   "execution_count": 43,
   "metadata": {},
   "outputs": [
    {
     "name": "stdout",
     "output_type": "stream",
     "text": [
      "582 ms ± 18.7 ms per loop (mean ± std. dev. of 7 runs, 1 loop each)\n"
     ]
    }
   ],
   "source": [
    "%timeit data['size']=replace_comma_with_dot(data['size'])"
   ]
  },
  {
   "cell_type": "code",
   "execution_count": 44,
   "metadata": {},
   "outputs": [],
   "source": [
    "# Making sure that every value is float type\n",
    "data['size']=data['size'].astype(float)"
   ]
  },
  {
   "cell_type": "code",
   "execution_count": 45,
   "metadata": {},
   "outputs": [],
   "source": [
    "def adjusting_m2(x):\n",
    "    '''\n",
    "    Adjusting prices by multiplying price per m2 with size of appartment\n",
    "    (for all values less than 4).\n",
    "    '''\n",
    "    for i in range(0, len(x)):\n",
    "        if x[i]<4:\n",
    "            #print(x[i],data['size'][i] )\n",
    "            x[i]=x[i]*data['size'][i]\n",
    "    return x"
   ]
  },
  {
   "cell_type": "code",
   "execution_count": 46,
   "metadata": {},
   "outputs": [
    {
     "name": "stdout",
     "output_type": "stream",
     "text": [
      "275 ms ± 49.3 ms per loop (mean ± std. dev. of 7 runs, 1 loop each)\n"
     ]
    }
   ],
   "source": [
    "%timeit data.price=adjusting_m2(data.price)"
   ]
  },
  {
   "cell_type": "code",
   "execution_count": 47,
   "metadata": {},
   "outputs": [],
   "source": [
    "# All prices are marked in the unit of thousands of EURs, let's show the full price by multiplying with 1000\n",
    "# For prices that are under 850k and 'size' under 100m2\n",
    "data.price = [data.price[i]*1000 if (data.price[i]<850 and data['size'][i]<100) else data.price[i] for i in range(0, len(data.price))]"
   ]
  },
  {
   "cell_type": "code",
   "execution_count": 48,
   "metadata": {},
   "outputs": [],
   "source": [
    "# For prices that are under 1000k and 'size' more than 100m2\n",
    "data.price = [data.price[i]*1000 if (data.price[i]<1000 and data['size'][i]>=100) else data.price[i] for i in range(0, len(data.price))]"
   ]
  },
  {
   "cell_type": "code",
   "execution_count": 49,
   "metadata": {},
   "outputs": [
    {
     "data": {
      "text/plain": [
       "3071      850.0\n",
       "9639      850.0\n",
       "9638      850.0\n",
       "9637      850.0\n",
       "9636      850.0\n",
       "9635      850.0\n",
       "10686     950.0\n",
       "4617      950.0\n",
       "73        950.0\n",
       "11158     950.0\n",
       "10250     950.0\n",
       "11159     950.0\n",
       "11165     950.0\n",
       "1592      990.0\n",
       "110      1200.0\n",
       "10684    1690.0\n",
       "15762    2000.0\n",
       "12652    2000.0\n",
       "90       2633.0\n",
       "10965    6500.0\n",
       "Name: price, dtype: float64"
      ]
     },
     "execution_count": 49,
     "metadata": {},
     "output_type": "execute_result"
    }
   ],
   "source": [
    "data.price.sort_values().head(20)"
   ]
  },
  {
   "cell_type": "code",
   "execution_count": 50,
   "metadata": {
    "scrolled": true
   },
   "outputs": [
    {
     "name": "stdout",
     "output_type": "stream",
     "text": [
      "https://www.halooglasi.com/nekretnine/prodaja-stanova/uknjizeni--odmah-useljivi-stanovi-moze-na-kre/5425444586903?kid=1\n",
      "https://www.halooglasi.com/nekretnine/prodaja-stanova/palilula-sf552/5425634604157?kid=1\n",
      "https://www.halooglasi.com/nekretnine/prodaja-stanova/dvoiposoban-stan-u-borci-novogradnja-sf-551/5425634604156?kid=1\n",
      "https://www.halooglasi.com/nekretnine/prodaja-stanova/palilula-sf556/5425634604155?kid=1\n",
      "https://www.halooglasi.com/nekretnine/prodaja-stanova/palilula-sf-555/5425634604154?kid=1\n",
      "https://www.halooglasi.com/nekretnine/prodaja-stanova/palilula-sf554/5425634604153?kid=1\n",
      "https://www.halooglasi.com/nekretnine/prodaja-stanova/veliki-mokri-lug-od-0-5-do-3-0-950em2/5425634765136?kid=1\n",
      "https://www.halooglasi.com/nekretnine/prodaja-stanova/cvetanova-cuprija-nov-stan-na-vpr-samo-za-kes/5425634934214?kid=1\n",
      "https://www.halooglasi.com/nekretnine/prodaja-stanova/novogradnja-borca-lux-stanovi/5425634935389?kid=4\n",
      "https://www.halooglasi.com/nekretnine/prodaja-stanova/veliki-mokri-lug-bus-308-uknjizeni-novi-stano/5425634831359?kid=1\n",
      "https://www.halooglasi.com/nekretnine/prodaja-stanova/akcija-direktna-prodaja-stanova/5425634629139?kid=1\n",
      "https://www.halooglasi.com/nekretnine/prodaja-stanova/veliki-mokri-lug-novi-uknjizeni-stanovi-bus-3/5425634831264?kid=1\n",
      "https://www.halooglasi.com/nekretnine/prodaja-stanova/veliki-mokri-lug-novi-uknjizeni-stanovi-kod-3/5425634831451?kid=1\n",
      "https://www.halooglasi.com/nekretnine/prodaja-stanova/mirijevo-zagradje-48m2-novogradnja/5425634681896?kid=1\n",
      "https://www.halooglasi.com/nekretnine/prodaja-stanova/extra-lux-penthaus-sa-parkingom--bez-provizij/5425634921240?kid=4\n",
      "https://www.halooglasi.com/nekretnine/prodaja-stanova/lux-3-0-stan-na-vozdovcu-57-23m2-povrat-pdv-a/5425634763903?kid=1\n",
      "https://www.halooglasi.com/nekretnine/prodaja-stanova/dimitrija-tucovica-kod-tc-zira-zvezdara/5425634629578?kid=1\n",
      "https://www.halooglasi.com/nekretnine/prodaja-stanova/novogradnja-samo-stanovi-od-65m2-kod-rest-kov/5425634707439?kid=1\n",
      "https://www.halooglasi.com/nekretnine/prodaja-stanova/extra-lux-stanovi-na-novom-beogradu-bez-provi/5425634265087?kid=4\n",
      "https://www.halooglasi.com/nekretnine/prodaja-stanova/padinska-skela-toviliste-16/5425634177362?kid=1\n"
     ]
    }
   ],
   "source": [
    "# There are still values that need to be adjusted manually\n",
    "\n",
    "print(data.advertisement_url[3071])\n",
    "print(data.advertisement_url[9639])\n",
    "print(data.advertisement_url[9638])\n",
    "print(data.advertisement_url[9637])\n",
    "print(data.advertisement_url[9636])\n",
    "print(data.advertisement_url[9635])\n",
    "print(data.advertisement_url[10686])\n",
    "print(data.advertisement_url[4617])\n",
    "print(data.advertisement_url[73])\n",
    "print(data.advertisement_url[11158])\n",
    "print(data.advertisement_url[10250])\n",
    "print(data.advertisement_url[11159])\n",
    "print(data.advertisement_url[11165])\n",
    "print(data.advertisement_url[1592])\n",
    "print(data.advertisement_url[110])\n",
    "print(data.advertisement_url[10684])\n",
    "print(data.advertisement_url[15762])\n",
    "print(data.advertisement_url[12652])\n",
    "print(data.advertisement_url[90])\n",
    "print(data.advertisement_url[10965])"
   ]
  },
  {
   "cell_type": "code",
   "execution_count": 51,
   "metadata": {},
   "outputs": [
    {
     "data": {
      "text/plain": [
       "11143     1.0\n",
       "15103     1.2\n",
       "8177      7.0\n",
       "11850     8.0\n",
       "16641    11.0\n",
       "Name: size, dtype: float64"
      ]
     },
     "execution_count": 51,
     "metadata": {},
     "output_type": "execute_result"
    }
   ],
   "source": [
    "data['size'].sort_values().head()"
   ]
  },
  {
   "cell_type": "code",
   "execution_count": 52,
   "metadata": {},
   "outputs": [],
   "source": [
    "# Adjusting 'size' values\n",
    "data['size'][11143]=1000\n",
    "data['size'][15103]=1200\n",
    "data['size'][8177]=70"
   ]
  },
  {
   "cell_type": "code",
   "execution_count": 53,
   "metadata": {},
   "outputs": [],
   "source": [
    "# It is not uncommon to show price per km2 in advertisements, \n",
    "# especially if the full price is very high. \n",
    "# These prices will multiply with the corresponding apartment sizes.\n",
    "\n",
    "def adjusting_m2(x):\n",
    "    '''\n",
    "    Adjusting prices by multiplying the price per m2 with a size of the apartment\n",
    "    (For all values less than 2700EUR).\n",
    "    '''\n",
    "    for i in range(0, len(x)):\n",
    "        if x[i]<2700:\n",
    "            #print(x[i],data['size'][i] )\n",
    "            x[i]=x[i]*data['size'][i]\n",
    "    return x"
   ]
  },
  {
   "cell_type": "code",
   "execution_count": 54,
   "metadata": {},
   "outputs": [
    {
     "name": "stdout",
     "output_type": "stream",
     "text": [
      "286 ms ± 26.8 ms per loop (mean ± std. dev. of 7 runs, 1 loop each)\n"
     ]
    }
   ],
   "source": [
    "%timeit data.price=adjusting_m2(data.price)"
   ]
  },
  {
   "cell_type": "code",
   "execution_count": 55,
   "metadata": {},
   "outputs": [],
   "source": [
    "# This is an average price check per m2\n",
    "price_per_m2=(data.price)/(data['size'])"
   ]
  },
  {
   "cell_type": "code",
   "execution_count": 56,
   "metadata": {},
   "outputs": [
    {
     "data": {
      "text/plain": [
       "111      23529.411765\n",
       "461      20000.000000\n",
       "5775     13734.693878\n",
       "13289    12126.984127\n",
       "9106     11818.181818\n",
       "14739    11320.754717\n",
       "9107     10833.333333\n",
       "14757     7666.666667\n",
       "2000      7625.142857\n",
       "10156     7000.000000\n",
       "dtype: float64"
      ]
     },
     "execution_count": 56,
     "metadata": {},
     "output_type": "execute_result"
    }
   ],
   "source": [
    "price_per_m2.sort_values(ascending=False).head(10)"
   ]
  },
  {
   "cell_type": "code",
   "execution_count": 57,
   "metadata": {},
   "outputs": [
    {
     "name": "stdout",
     "output_type": "stream",
     "text": [
      "800000.0 34.0 https://www.halooglasi.com/nekretnine/prodaja-stanova/uknjizeno-useljivo-moze-na-kredit-banke/5425634305458?kid=4\n",
      "800000.0 40.0 https://www.halooglasi.com/nekretnine/prodaja-stanova/direktna-prodaja-useljivih-stanova/5425616558181?kid=3\n",
      "673000.0 49.0 https://www.halooglasi.com/nekretnine/prodaja-stanova/palilula-sf-860/5425634728236?kid=1\n",
      "764000.0 63.0 https://www.halooglasi.com/nekretnine/prodaja-stanova/zvezdara-zvezdarska-suma-lokrumska-2-5-63m2/5425634704093?kid=1\n",
      "650000.0 55.0 https://www.halooglasi.com/nekretnine/prodaja-stanova/kljuc-u-ruke/5425628766956?kid=1\n",
      "600000.0 53.0 https://www.halooglasi.com/nekretnine/prodaja-stanova/grocka-sf-933/5425634762005?kid=1\n",
      "650000.0 60.0 https://www.halooglasi.com/nekretnine/prodaja-stanova/kluc-u-ruke/5425628766677?kid=1\n",
      "230000.0 30.0 https://www.halooglasi.com/nekretnine/prodaja-stanova/bele-vode-stan/5425634818576?kid=1\n",
      "693888.0 91.0 https://www.halooglasi.com/nekretnine/prodaja-stanova/jedinstveno-kula-belgrade-waterfront-pogled-i/5425634419483?kid=1\n",
      "700000.0 100.0 https://www.halooglasi.com/nekretnine/prodaja-stanova/strogi-centar-nusiceva---4-0-za-stanovanje-il/5425634710773?kid=1\n"
     ]
    }
   ],
   "source": [
    "print(data.price[111], data['size'][111], data.advertisement_url[111])\n",
    "print(data.price[461], data['size'][461], data.advertisement_url[461])\n",
    "print(data.price[5775], data['size'][5775], data.advertisement_url[5775])\n",
    "print(data.price[13289], data['size'][13289], data.advertisement_url[13289])\n",
    "print(data.price[9106], data['size'][9106], data.advertisement_url[9106])\n",
    "print(data.price[14739], data['size'][14739], data.advertisement_url[14739])\n",
    "print(data.price[9107], data['size'][9107], data.advertisement_url[9107])\n",
    "print(data.price[14757], data['size'][14757], data.advertisement_url[14757])\n",
    "print(data.price[2000], data['size'][2000], data.advertisement_url[2000])\n",
    "print(data.price[10156], data['size'][10156], data.advertisement_url[10156])\n"
   ]
  },
  {
   "cell_type": "code",
   "execution_count": 58,
   "metadata": {},
   "outputs": [],
   "source": [
    "# Manually replacing all values that are not correct\n",
    "\n",
    "data.price[111]=data.price[111]/1000*data['size'][111]\n",
    "data.price[461]=data.price[461]/1000*data['size'][461]\n",
    "data.price[5775] =30000\n",
    "data.price[13289]=76400\n",
    "data.price[9106]=65000\n",
    "data.price[14739]=60000\n",
    "\n",
    "data.price[9107]=65000\n",
    "data.price[14757]=data.price[14757]/1000*data['size'][14757]"
   ]
  },
  {
   "cell_type": "code",
   "execution_count": 59,
   "metadata": {},
   "outputs": [
    {
     "data": {
      "text/plain": [
       "2000     7625.142857\n",
       "10156    7000.000000\n",
       "3521     6666.666667\n",
       "12183    6190.476190\n",
       "9816     6097.560976\n",
       "8016     6000.000000\n",
       "1153     5901.639344\n",
       "1569     5705.882353\n",
       "4133     5573.770492\n",
       "3965     5573.770492\n",
       "dtype: float64"
      ]
     },
     "execution_count": 59,
     "metadata": {},
     "output_type": "execute_result"
    }
   ],
   "source": [
    "price_per_m2=(data.price)/(data['size'])\n",
    "price_per_m2.sort_values(ascending=False).head(10)"
   ]
  },
  {
   "cell_type": "code",
   "execution_count": 60,
   "metadata": {},
   "outputs": [
    {
     "name": "stdout",
     "output_type": "stream",
     "text": [
      "600000.0 90.0 https://www.halooglasi.com/nekretnine/prodaja-stanova/palilula-sf891/5425634740478?kid=1\n",
      "260000.0 42.0 https://www.halooglasi.com/nekretnine/prodaja-stanova/centar-bulevar-despota-stefana-42m2-namesten/5425634825736?kid=2\n",
      "250000.0 41.0 https://www.halooglasi.com/nekretnine/prodaja-stanova/1-0-centar-zmaj-jovina-pesacka-zona-top-ponud/5425634558088?kid=1\n",
      "360000.0 60.0 https://www.halooglasi.com/nekretnine/prodaja-stanova/hercegovacka-beograd-na-vodi-savski-venac-beo/5425634926097?kid=1\n",
      "360000.0 61.0 https://www.halooglasi.com/nekretnine/prodaja-stanova/savski-venac-beograd-na-vodi---hercegovacka/5425634802500?kid=1\n",
      "388000.0 68.0 https://www.halooglasi.com/nekretnine/prodaja-stanova/vozdovac-jove-ilica-lux-penthouse/5425634145128?kid=1\n",
      "340000.0 61.0 https://www.halooglasi.com/nekretnine/prodaja-stanova/savski-venac-belgrade-waterfront-hercegovacka/5425634794045?kid=1\n",
      "340000.0 61.0 https://www.halooglasi.com/nekretnine/prodaja-stanova/luksuzan-moderan-dvosoban-stan-u-beogradu-na/5425634680191?kid=1\n"
     ]
    }
   ],
   "source": [
    "print(data.price[3521], data['size'][3521], data.advertisement_url[3521])\n",
    "print(data.price[12183], data['size'][12183], data.advertisement_url[12183])\n",
    "print(data.price[9816], data['size'][9816], data.advertisement_url[9816])\n",
    "print(data.price[8016], data['size'][8016], data.advertisement_url[8016])\n",
    "print(data.price[1153], data['size'][1153], data.advertisement_url[1153])\n",
    "print(data.price[1569], data['size'][1569], data.advertisement_url[1569])\n",
    "print(data.price[4133], data['size'][4133], data.advertisement_url[4133])\n",
    "print(data.price[3965], data['size'][3965], data.advertisement_url[3965])\n"
   ]
  },
  {
   "cell_type": "code",
   "execution_count": 61,
   "metadata": {},
   "outputs": [],
   "source": [
    "data.price[3521]=data.price[3521]/1000*data['size'][3521]\n",
    "data.price[12183]=data.price[12183]/100*data['size'][12183]"
   ]
  },
  {
   "cell_type": "code",
   "execution_count": 62,
   "metadata": {
    "hideCode": false,
    "hidePrompt": false
   },
   "outputs": [
    {
     "data": {
      "text/plain": [
       "count    1.713200e+04\n",
       "mean     1.206354e+05\n",
       "std      9.737778e+04\n",
       "min      6.500000e+03\n",
       "25%      6.000000e+04\n",
       "50%      9.290000e+04\n",
       "75%      1.450000e+05\n",
       "max      1.500000e+06\n",
       "Name: price, dtype: float64"
      ]
     },
     "execution_count": 62,
     "metadata": {},
     "output_type": "execute_result"
    }
   ],
   "source": [
    "data.price.describe()"
   ]
  },
  {
   "cell_type": "code",
   "execution_count": 63,
   "metadata": {},
   "outputs": [],
   "source": [
    "# No need for advertisement_url anymore\n",
    "data = data.drop(['advertisement_url'], axis=1)"
   ]
  },
  {
   "cell_type": "code",
   "execution_count": 64,
   "metadata": {},
   "outputs": [
    {
     "name": "stdout",
     "output_type": "stream",
     "text": [
      "[dtype('O') dtype('float64')]\n"
     ]
    }
   ],
   "source": [
    "# Checking type of objects for all features\n",
    "print(data.dtypes.unique())"
   ]
  },
  {
   "cell_type": "code",
   "execution_count": 65,
   "metadata": {},
   "outputs": [
    {
     "name": "stdout",
     "output_type": "stream",
     "text": [
      "Number of integer features:  0\n",
      "Number of ordinar features:  7\n",
      "Number of float features:  8\n"
     ]
    }
   ],
   "source": [
    "print('Number of integer features: ', len(data.select_dtypes(include=['int64']).columns))\n",
    "print('Number of ordinar features: ', len(data.select_dtypes(include=['O']).columns))\n",
    "print('Number of float features: ', len(data.select_dtypes(include=['float64']).columns))"
   ]
  },
  {
   "cell_type": "code",
   "execution_count": 66,
   "metadata": {},
   "outputs": [
    {
     "name": "stdout",
     "output_type": "stream",
     "text": [
      "Index([], dtype='object')\n",
      "Index(['advertiser', 'location', 'municipality', 'number_of_rooms', 'heating',\n",
      "       'floor', 'object_type'],\n",
      "      dtype='object')\n",
      "Index(['price', 'size', 'total_number_of_floors', 'filed', 'balcony',\n",
      "       'parking', 'garage', 'basement'],\n",
      "      dtype='object')\n"
     ]
    }
   ],
   "source": [
    "print(data.select_dtypes(include=['int64']).columns)\n",
    "print(data.select_dtypes(include=['O']).columns)\n",
    "print(data.select_dtypes(include=['float64']).columns)"
   ]
  },
  {
   "cell_type": "markdown",
   "metadata": {},
   "source": [
    "Adjusting 'number_of_rooms' and 'floor' columns."
   ]
  },
  {
   "cell_type": "code",
   "execution_count": 67,
   "metadata": {},
   "outputs": [
    {
     "data": {
      "text/plain": [
       "array([2, 3, 3.5, 4, 2.5, 0.5, 4.5, 1, 1.5, 5, '5+'], dtype=object)"
      ]
     },
     "execution_count": 67,
     "metadata": {},
     "output_type": "execute_result"
    }
   ],
   "source": [
    "data.number_of_rooms.unique()"
   ]
  },
  {
   "cell_type": "code",
   "execution_count": 68,
   "metadata": {},
   "outputs": [
    {
     "data": {
      "text/plain": [
       "array(['1', '6', '5', '4', '3', 'PR', '14', '2', '7', '23', '8', 'VPR',\n",
       "       '16', '10', '12', '13', '9', 'SUT', 'PSUT', '17', '22', '11', '27',\n",
       "       '15', '20', '18', '21', '29', '19'], dtype=object)"
      ]
     },
     "execution_count": 68,
     "metadata": {},
     "output_type": "execute_result"
    }
   ],
   "source": [
    "data.floor.unique()"
   ]
  },
  {
   "cell_type": "markdown",
   "metadata": {},
   "source": [
    "The number of rooms will stay categorical, but the floor will be changed to float. PR, VPR,SUT,PSUT are all ground floors and they will be marked as 0."
   ]
  },
  {
   "cell_type": "code",
   "execution_count": 69,
   "metadata": {},
   "outputs": [],
   "source": [
    "data.floor = [0 if (data.floor[i]=='PR' or data.floor[i]=='VPR' or data.floor[i]=='PSUT' or data.floor[i]=='SUT') else data.floor[i] for i in range(0,len(data.floor))]"
   ]
  },
  {
   "cell_type": "code",
   "execution_count": 70,
   "metadata": {},
   "outputs": [],
   "source": [
    "# Making sure the type is float\n",
    "data.floor=data.floor.astype(float)"
   ]
  },
  {
   "cell_type": "code",
   "execution_count": 71,
   "metadata": {},
   "outputs": [],
   "source": [
    "# Adjusting data\n",
    "data['filed']=data['filed'].astype('bool')\n",
    "data['balcony']=data['balcony'].astype('bool')\n",
    "data['parking']=data['parking'].astype('bool')\n",
    "data['garage']=data['garage'].astype('bool')\n",
    "data['basement']=data['basement'].astype('bool')"
   ]
  },
  {
   "cell_type": "code",
   "execution_count": 72,
   "metadata": {},
   "outputs": [
    {
     "name": "stdout",
     "output_type": "stream",
     "text": [
      "[dtype('O') dtype('float64') dtype('bool')]\n",
      "\n",
      "\n",
      "Number of category features:  5\n",
      "Number of ordinar features:  6\n",
      "Number of float features:  4\n",
      "\n",
      "\n",
      "Index(['filed', 'balcony', 'parking', 'garage', 'basement'], dtype='object')\n",
      "Index(['advertiser', 'location', 'municipality', 'number_of_rooms', 'heating',\n",
      "       'object_type'],\n",
      "      dtype='object')\n",
      "Index(['price', 'size', 'floor', 'total_number_of_floors'], dtype='object')\n"
     ]
    }
   ],
   "source": [
    "# Short check\n",
    "print(data.dtypes.unique())\n",
    "print('\\n')\n",
    "print('Number of category features: ', len(data.select_dtypes(include=['bool']).columns))\n",
    "print('Number of ordinar features: ', len(data.select_dtypes(include=['O']).columns))\n",
    "print('Number of float features: ', len(data.select_dtypes(include=['float64']).columns))\n",
    "print('\\n')\n",
    "print(data.select_dtypes(include=['bool']).columns)\n",
    "print(data.select_dtypes(include=['O']).columns)\n",
    "print(data.select_dtypes(include=['float64']).columns)"
   ]
  },
  {
   "cell_type": "markdown",
   "metadata": {},
   "source": [
    "### Detecting outliners"
   ]
  },
  {
   "cell_type": "code",
   "execution_count": 73,
   "metadata": {},
   "outputs": [
    {
     "data": {
      "image/png": "[encoded data removed]",
      "text/plain": [
       "<Figure size 432x288 with 1 Axes>"
      ]
     },
     "metadata": {
      "needs_background": "light"
     },
     "output_type": "display_data"
    }
   ],
   "source": [
    "fig, ax = plt.subplots()\n",
    "ax.scatter(x = data['size'], y = data.price)\n",
    "plt.ylabel('Price')\n",
    "plt.xlabel('Size')\n",
    "plt.show()"
   ]
  },
  {
   "cell_type": "code",
   "execution_count": 74,
   "metadata": {},
   "outputs": [
    {
     "data": {
      "text/html": [
       "<div>\n",
       "<style scoped>\n",
       "    .dataframe tbody tr th:only-of-type {\n",
       "        vertical-align: middle;\n",
       "    }\n",
       "\n",
       "    .dataframe tbody tr th {\n",
       "        vertical-align: top;\n",
       "    }\n",
       "\n",
       "    .dataframe thead th {\n",
       "        text-align: right;\n",
       "    }\n",
       "</style>\n",
       "<table border=\"1\" class=\"dataframe\">\n",
       "  <thead>\n",
       "    <tr style=\"text-align: right;\">\n",
       "      <th></th>\n",
       "      <th>advertiser</th>\n",
       "      <th>location</th>\n",
       "      <th>municipality</th>\n",
       "      <th>number_of_rooms</th>\n",
       "      <th>price</th>\n",
       "      <th>size</th>\n",
       "      <th>heating</th>\n",
       "      <th>floor</th>\n",
       "      <th>total_number_of_floors</th>\n",
       "      <th>object_type</th>\n",
       "      <th>filed</th>\n",
       "      <th>balcony</th>\n",
       "      <th>parking</th>\n",
       "      <th>garage</th>\n",
       "      <th>basement</th>\n",
       "    </tr>\n",
       "  </thead>\n",
       "  <tbody>\n",
       "    <tr>\n",
       "      <th>4427</th>\n",
       "      <td>Agencija</td>\n",
       "      <td>Kalenić pijaca</td>\n",
       "      <td>Opština Vračar</td>\n",
       "      <td>5</td>\n",
       "      <td>1288100.0</td>\n",
       "      <td>293.0</td>\n",
       "      <td>CG</td>\n",
       "      <td>6.0</td>\n",
       "      <td>6.0</td>\n",
       "      <td>Novogradnja</td>\n",
       "      <td>False</td>\n",
       "      <td>True</td>\n",
       "      <td>True</td>\n",
       "      <td>True</td>\n",
       "      <td>False</td>\n",
       "    </tr>\n",
       "    <tr>\n",
       "      <th>8455</th>\n",
       "      <td>Agencija</td>\n",
       "      <td>Dorćol</td>\n",
       "      <td>Opština Stari grad</td>\n",
       "      <td>5+</td>\n",
       "      <td>1300000.0</td>\n",
       "      <td>360.0</td>\n",
       "      <td>CG</td>\n",
       "      <td>1.0</td>\n",
       "      <td>2.0</td>\n",
       "      <td>Stara gradnja</td>\n",
       "      <td>True</td>\n",
       "      <td>True</td>\n",
       "      <td>False</td>\n",
       "      <td>False</td>\n",
       "      <td>False</td>\n",
       "    </tr>\n",
       "    <tr>\n",
       "      <th>9586</th>\n",
       "      <td>Agencija</td>\n",
       "      <td>Vukov Spomenik</td>\n",
       "      <td>Opština Zvezdara</td>\n",
       "      <td>5+</td>\n",
       "      <td>1445000.0</td>\n",
       "      <td>557.0</td>\n",
       "      <td>CG</td>\n",
       "      <td>7.0</td>\n",
       "      <td>8.0</td>\n",
       "      <td>Unknown</td>\n",
       "      <td>False</td>\n",
       "      <td>False</td>\n",
       "      <td>False</td>\n",
       "      <td>False</td>\n",
       "      <td>False</td>\n",
       "    </tr>\n",
       "    <tr>\n",
       "      <th>10544</th>\n",
       "      <td>Agencija</td>\n",
       "      <td>Dedinje</td>\n",
       "      <td>Opština Savski venac</td>\n",
       "      <td>5</td>\n",
       "      <td>1500000.0</td>\n",
       "      <td>284.0</td>\n",
       "      <td>CG</td>\n",
       "      <td>1.0</td>\n",
       "      <td>3.0</td>\n",
       "      <td>U izgradnji</td>\n",
       "      <td>False</td>\n",
       "      <td>False</td>\n",
       "      <td>False</td>\n",
       "      <td>False</td>\n",
       "      <td>False</td>\n",
       "    </tr>\n",
       "  </tbody>\n",
       "</table>\n",
       "</div>"
      ],
      "text/plain": [
       "      advertiser        location          municipality number_of_rooms  \\\n",
       "4427    Agencija  Kalenić pijaca        Opština Vračar               5   \n",
       "8455    Agencija          Dorćol    Opština Stari grad              5+   \n",
       "9586    Agencija  Vukov Spomenik      Opština Zvezdara              5+   \n",
       "10544   Agencija         Dedinje  Opština Savski venac               5   \n",
       "\n",
       "           price   size heating  floor  total_number_of_floors    object_type  \\\n",
       "4427   1288100.0  293.0      CG    6.0                     6.0    Novogradnja   \n",
       "8455   1300000.0  360.0      CG    1.0                     2.0  Stara gradnja   \n",
       "9586   1445000.0  557.0      CG    7.0                     8.0        Unknown   \n",
       "10544  1500000.0  284.0      CG    1.0                     3.0    U izgradnji   \n",
       "\n",
       "       filed  balcony  parking  garage  basement  \n",
       "4427   False     True     True    True     False  \n",
       "8455    True     True    False   False     False  \n",
       "9586   False    False    False   False     False  \n",
       "10544  False    False    False   False     False  "
      ]
     },
     "execution_count": 74,
     "metadata": {},
     "output_type": "execute_result"
    }
   ],
   "source": [
    "# Large prices\n",
    "data.loc[data.price>1200000]"
   ]
  },
  {
   "cell_type": "code",
   "execution_count": 75,
   "metadata": {},
   "outputs": [
    {
     "data": {
      "text/html": [
       "<div>\n",
       "<style scoped>\n",
       "    .dataframe tbody tr th:only-of-type {\n",
       "        vertical-align: middle;\n",
       "    }\n",
       "\n",
       "    .dataframe tbody tr th {\n",
       "        vertical-align: top;\n",
       "    }\n",
       "\n",
       "    .dataframe thead th {\n",
       "        text-align: right;\n",
       "    }\n",
       "</style>\n",
       "<table border=\"1\" class=\"dataframe\">\n",
       "  <thead>\n",
       "    <tr style=\"text-align: right;\">\n",
       "      <th></th>\n",
       "      <th>advertiser</th>\n",
       "      <th>location</th>\n",
       "      <th>municipality</th>\n",
       "      <th>number_of_rooms</th>\n",
       "      <th>price</th>\n",
       "      <th>size</th>\n",
       "      <th>heating</th>\n",
       "      <th>floor</th>\n",
       "      <th>total_number_of_floors</th>\n",
       "      <th>object_type</th>\n",
       "      <th>filed</th>\n",
       "      <th>balcony</th>\n",
       "      <th>parking</th>\n",
       "      <th>garage</th>\n",
       "      <th>basement</th>\n",
       "    </tr>\n",
       "  </thead>\n",
       "  <tbody>\n",
       "    <tr>\n",
       "      <th>3463</th>\n",
       "      <td>Agencija</td>\n",
       "      <td>Meljak</td>\n",
       "      <td>Opština Barajevo</td>\n",
       "      <td>5+</td>\n",
       "      <td>53000.0</td>\n",
       "      <td>400.0</td>\n",
       "      <td>EG</td>\n",
       "      <td>0.0</td>\n",
       "      <td>1.0</td>\n",
       "      <td>Stara gradnja</td>\n",
       "      <td>False</td>\n",
       "      <td>False</td>\n",
       "      <td>False</td>\n",
       "      <td>False</td>\n",
       "      <td>False</td>\n",
       "    </tr>\n",
       "    <tr>\n",
       "      <th>15938</th>\n",
       "      <td>Agencija</td>\n",
       "      <td>Karaburma</td>\n",
       "      <td>Opština Palilula</td>\n",
       "      <td>2</td>\n",
       "      <td>65000.0</td>\n",
       "      <td>502.0</td>\n",
       "      <td>CG</td>\n",
       "      <td>1.0</td>\n",
       "      <td>8.0</td>\n",
       "      <td>Stara gradnja</td>\n",
       "      <td>False</td>\n",
       "      <td>False</td>\n",
       "      <td>False</td>\n",
       "      <td>False</td>\n",
       "      <td>False</td>\n",
       "    </tr>\n",
       "  </tbody>\n",
       "</table>\n",
       "</div>"
      ],
      "text/plain": [
       "      advertiser   location      municipality number_of_rooms    price   size  \\\n",
       "3463    Agencija     Meljak  Opština Barajevo              5+  53000.0  400.0   \n",
       "15938   Agencija  Karaburma  Opština Palilula               2  65000.0  502.0   \n",
       "\n",
       "      heating  floor  total_number_of_floors    object_type  filed  balcony  \\\n",
       "3463       EG    0.0                     1.0  Stara gradnja  False    False   \n",
       "15938      CG    1.0                     8.0  Stara gradnja  False    False   \n",
       "\n",
       "       parking  garage  basement  \n",
       "3463     False   False     False  \n",
       "15938    False   False     False  "
      ]
     },
     "execution_count": 75,
     "metadata": {},
     "output_type": "execute_result"
    }
   ],
   "source": [
    "# Small prices, large sizes\n",
    "data.loc[(data.price<200000)&(data['size']>350)]"
   ]
  },
  {
   "cell_type": "code",
   "execution_count": 76,
   "metadata": {},
   "outputs": [
    {
     "data": {
      "text/html": [
       "<div>\n",
       "<style scoped>\n",
       "    .dataframe tbody tr th:only-of-type {\n",
       "        vertical-align: middle;\n",
       "    }\n",
       "\n",
       "    .dataframe tbody tr th {\n",
       "        vertical-align: top;\n",
       "    }\n",
       "\n",
       "    .dataframe thead th {\n",
       "        text-align: right;\n",
       "    }\n",
       "</style>\n",
       "<table border=\"1\" class=\"dataframe\">\n",
       "  <thead>\n",
       "    <tr style=\"text-align: right;\">\n",
       "      <th></th>\n",
       "      <th>id</th>\n",
       "      <th>accommodation_type</th>\n",
       "      <th>address</th>\n",
       "      <th>advertiser</th>\n",
       "      <th>city</th>\n",
       "      <th>description</th>\n",
       "      <th>location</th>\n",
       "      <th>municipality</th>\n",
       "      <th>number_of_rooms</th>\n",
       "      <th>price</th>\n",
       "      <th>...</th>\n",
       "      <th>balcony</th>\n",
       "      <th>intercom</th>\n",
       "      <th>lift</th>\n",
       "      <th>parking</th>\n",
       "      <th>telephone</th>\n",
       "      <th>internet</th>\n",
       "      <th>katv</th>\n",
       "      <th>garage</th>\n",
       "      <th>basement</th>\n",
       "      <th>loggia</th>\n",
       "    </tr>\n",
       "  </thead>\n",
       "  <tbody>\n",
       "    <tr>\n",
       "      <th>3685</th>\n",
       "      <td>3686</td>\n",
       "      <td>Stan</td>\n",
       "      <td>Veljka Vlahovica</td>\n",
       "      <td>Agencija</td>\n",
       "      <td>Beograd</td>\n",
       "      <td>Kucana dobroj lokaciji. Blizina  Robne  kuce S...</td>\n",
       "      <td>Meljak</td>\n",
       "      <td>Opština Barajevo</td>\n",
       "      <td>5+</td>\n",
       "      <td>53</td>\n",
       "      <td>...</td>\n",
       "      <td>NaN</td>\n",
       "      <td>NaN</td>\n",
       "      <td>NaN</td>\n",
       "      <td>NaN</td>\n",
       "      <td>NaN</td>\n",
       "      <td>NaN</td>\n",
       "      <td>NaN</td>\n",
       "      <td>NaN</td>\n",
       "      <td>NaN</td>\n",
       "      <td>None</td>\n",
       "    </tr>\n",
       "  </tbody>\n",
       "</table>\n",
       "<p>1 rows × 30 columns</p>\n",
       "</div>"
      ],
      "text/plain": [
       "        id accommodation_type           address advertiser     city  \\\n",
       "3685  3686               Stan  Veljka Vlahovica   Agencija  Beograd   \n",
       "\n",
       "                                            description location  \\\n",
       "3685  Kucana dobroj lokaciji. Blizina  Robne  kuce S...   Meljak   \n",
       "\n",
       "          municipality number_of_rooms price  ... balcony intercom lift  \\\n",
       "3685  Opština Barajevo              5+    53  ...     NaN      NaN  NaN   \n",
       "\n",
       "     parking telephone internet  katv garage  basement  loggia  \n",
       "3685     NaN       NaN      NaN   NaN    NaN       NaN    None  \n",
       "\n",
       "[1 rows x 30 columns]"
      ]
     },
     "execution_count": 76,
     "metadata": {},
     "output_type": "execute_result"
    }
   ],
   "source": [
    "data_for_checking.loc[data_for_checking.location=='Meljak']"
   ]
  },
  {
   "cell_type": "code",
   "execution_count": 77,
   "metadata": {},
   "outputs": [],
   "source": [
    "data.drop([3463], inplace=True) # This is a house, not an appartment (seen from description)\n",
    "data.drop([15938], inplace=True) # It's url was deleted, so I suppose it was a mistake"
   ]
  },
  {
   "cell_type": "code",
   "execution_count": 78,
   "metadata": {},
   "outputs": [
    {
     "data": {
      "text/html": [
       "<div>\n",
       "<style scoped>\n",
       "    .dataframe tbody tr th:only-of-type {\n",
       "        vertical-align: middle;\n",
       "    }\n",
       "\n",
       "    .dataframe tbody tr th {\n",
       "        vertical-align: top;\n",
       "    }\n",
       "\n",
       "    .dataframe thead th {\n",
       "        text-align: right;\n",
       "    }\n",
       "</style>\n",
       "<table border=\"1\" class=\"dataframe\">\n",
       "  <thead>\n",
       "    <tr style=\"text-align: right;\">\n",
       "      <th></th>\n",
       "      <th>advertiser</th>\n",
       "      <th>location</th>\n",
       "      <th>municipality</th>\n",
       "      <th>number_of_rooms</th>\n",
       "      <th>price</th>\n",
       "      <th>size</th>\n",
       "      <th>heating</th>\n",
       "      <th>floor</th>\n",
       "      <th>total_number_of_floors</th>\n",
       "      <th>object_type</th>\n",
       "      <th>filed</th>\n",
       "      <th>balcony</th>\n",
       "      <th>parking</th>\n",
       "      <th>garage</th>\n",
       "      <th>basement</th>\n",
       "    </tr>\n",
       "  </thead>\n",
       "  <tbody>\n",
       "    <tr>\n",
       "      <th>8975</th>\n",
       "      <td>Agencija</td>\n",
       "      <td>Dedinje</td>\n",
       "      <td>Opština Savski venac</td>\n",
       "      <td>5+</td>\n",
       "      <td>950000.0</td>\n",
       "      <td>523.0</td>\n",
       "      <td>Podno</td>\n",
       "      <td>0.0</td>\n",
       "      <td>3.0</td>\n",
       "      <td>Novogradnja</td>\n",
       "      <td>True</td>\n",
       "      <td>True</td>\n",
       "      <td>True</td>\n",
       "      <td>True</td>\n",
       "      <td>True</td>\n",
       "    </tr>\n",
       "    <tr>\n",
       "      <th>9586</th>\n",
       "      <td>Agencija</td>\n",
       "      <td>Vukov Spomenik</td>\n",
       "      <td>Opština Zvezdara</td>\n",
       "      <td>5+</td>\n",
       "      <td>1445000.0</td>\n",
       "      <td>557.0</td>\n",
       "      <td>CG</td>\n",
       "      <td>7.0</td>\n",
       "      <td>8.0</td>\n",
       "      <td>Unknown</td>\n",
       "      <td>False</td>\n",
       "      <td>False</td>\n",
       "      <td>False</td>\n",
       "      <td>False</td>\n",
       "      <td>False</td>\n",
       "    </tr>\n",
       "    <tr>\n",
       "      <th>11143</th>\n",
       "      <td>Agencija</td>\n",
       "      <td>Lekino brdo</td>\n",
       "      <td>Opština Voždovac</td>\n",
       "      <td>5+</td>\n",
       "      <td>1100000.0</td>\n",
       "      <td>1000.0</td>\n",
       "      <td>EG</td>\n",
       "      <td>0.0</td>\n",
       "      <td>5.0</td>\n",
       "      <td>Unknown</td>\n",
       "      <td>False</td>\n",
       "      <td>False</td>\n",
       "      <td>False</td>\n",
       "      <td>False</td>\n",
       "      <td>False</td>\n",
       "    </tr>\n",
       "    <tr>\n",
       "      <th>15103</th>\n",
       "      <td>Agencija</td>\n",
       "      <td>Medaković 2</td>\n",
       "      <td>Opština Voždovac</td>\n",
       "      <td>5+</td>\n",
       "      <td>1000000.0</td>\n",
       "      <td>1200.0</td>\n",
       "      <td>EG</td>\n",
       "      <td>0.0</td>\n",
       "      <td>2.0</td>\n",
       "      <td>Unknown</td>\n",
       "      <td>False</td>\n",
       "      <td>False</td>\n",
       "      <td>False</td>\n",
       "      <td>False</td>\n",
       "      <td>False</td>\n",
       "    </tr>\n",
       "  </tbody>\n",
       "</table>\n",
       "</div>"
      ],
      "text/plain": [
       "      advertiser        location          municipality number_of_rooms  \\\n",
       "8975    Agencija         Dedinje  Opština Savski venac              5+   \n",
       "9586    Agencija  Vukov Spomenik      Opština Zvezdara              5+   \n",
       "11143   Agencija     Lekino brdo      Opština Voždovac              5+   \n",
       "15103   Agencija     Medaković 2      Opština Voždovac              5+   \n",
       "\n",
       "           price    size heating  floor  total_number_of_floors  object_type  \\\n",
       "8975    950000.0   523.0   Podno    0.0                     3.0  Novogradnja   \n",
       "9586   1445000.0   557.0      CG    7.0                     8.0      Unknown   \n",
       "11143  1100000.0  1000.0      EG    0.0                     5.0      Unknown   \n",
       "15103  1000000.0  1200.0      EG    0.0                     2.0      Unknown   \n",
       "\n",
       "       filed  balcony  parking  garage  basement  \n",
       "8975    True     True     True    True      True  \n",
       "9586   False    False    False   False     False  \n",
       "11143  False    False    False   False     False  \n",
       "15103  False    False    False   False     False  "
      ]
     },
     "execution_count": 78,
     "metadata": {},
     "output_type": "execute_result"
    }
   ],
   "source": [
    "data.loc[data['size']>480]"
   ]
  },
  {
   "cell_type": "code",
   "execution_count": 79,
   "metadata": {},
   "outputs": [],
   "source": [
    "# Deleting ouliers\n",
    "data.drop([11143], inplace=True)\n",
    "data.drop([15103], inplace=True)"
   ]
  },
  {
   "cell_type": "code",
   "execution_count": 80,
   "metadata": {},
   "outputs": [
    {
     "data": {
      "image/png": "[encoded data removed]",
      "text/plain": [
       "<Figure size 432x288 with 1 Axes>"
      ]
     },
     "metadata": {
      "needs_background": "light"
     },
     "output_type": "display_data"
    }
   ],
   "source": [
    "fig, ax = plt.subplots()\n",
    "ax.scatter(x = data['size'], y = data.price)\n",
    "plt.ylabel('Price')\n",
    "plt.xlabel('Size')\n",
    "plt.show()"
   ]
  },
  {
   "cell_type": "code",
   "execution_count": 81,
   "metadata": {},
   "outputs": [],
   "source": [
    "# Adjusting order\n",
    "data.reset_index(inplace=True)\n",
    "data.drop(['index'], axis=1, inplace=True)"
   ]
  },
  {
   "cell_type": "markdown",
   "metadata": {},
   "source": [
    "### Making things normal"
   ]
  },
  {
   "cell_type": "code",
   "execution_count": 82,
   "metadata": {},
   "outputs": [
    {
     "data": {
      "image/png": "[encoded data removed]",
      "text/plain": [
       "<Figure size 432x288 with 1 Axes>"
      ]
     },
     "metadata": {
      "needs_background": "light"
     },
     "output_type": "display_data"
    }
   ],
   "source": [
    "sns.distplot(data.price)\n",
    "plt.show()"
   ]
  },
  {
   "cell_type": "code",
   "execution_count": 83,
   "metadata": {},
   "outputs": [
    {
     "name": "stdout",
     "output_type": "stream",
     "text": [
      "3.2600992524040593\n",
      "20.270653334470417\n"
     ]
    }
   ],
   "source": [
    "# Skewness and kurtosis\n",
    "print(data.price.skew())\n",
    "print(data.price.kurt())"
   ]
  },
  {
   "cell_type": "markdown",
   "metadata": {},
   "source": [
    "Price data is skewed and not symmetric and that's a kind of a problem. Linear regression models assume normality so log function will be applied to achieve normal distribution."
   ]
  },
  {
   "cell_type": "code",
   "execution_count": 84,
   "metadata": {},
   "outputs": [],
   "source": [
    "data.price=np.log(data.price)"
   ]
  },
  {
   "cell_type": "code",
   "execution_count": 85,
   "metadata": {},
   "outputs": [
    {
     "data": {
      "image/png": "[encoded data removed]",
      "text/plain": [
       "<Figure size 432x288 with 1 Axes>"
      ]
     },
     "metadata": {
      "needs_background": "light"
     },
     "output_type": "display_data"
    },
    {
     "data": {
      "image/png": "[encoded data removed]",
      "text/plain": [
       "<Figure size 432x288 with 1 Axes>"
      ]
     },
     "metadata": {
      "needs_background": "light"
     },
     "output_type": "display_data"
    }
   ],
   "source": [
    "sns.distplot(data.price, fit=norm)\n",
    "fig=plt.figure()\n",
    "qqplot=stats.probplot(data.price, plot=plt)\n",
    "plt.show()"
   ]
  },
  {
   "cell_type": "code",
   "execution_count": 86,
   "metadata": {},
   "outputs": [
    {
     "name": "stdout",
     "output_type": "stream",
     "text": [
      "0.2849490531760853\n",
      "0.03851561541421189\n"
     ]
    }
   ],
   "source": [
    "# Skewness and kurtosis after log function\n",
    "print(data.price.skew())\n",
    "print(data.price.kurt())"
   ]
  },
  {
   "cell_type": "code",
   "execution_count": 87,
   "metadata": {},
   "outputs": [
    {
     "data": {
      "text/html": [
       "<div>\n",
       "<style scoped>\n",
       "    .dataframe tbody tr th:only-of-type {\n",
       "        vertical-align: middle;\n",
       "    }\n",
       "\n",
       "    .dataframe tbody tr th {\n",
       "        vertical-align: top;\n",
       "    }\n",
       "\n",
       "    .dataframe thead th {\n",
       "        text-align: right;\n",
       "    }\n",
       "</style>\n",
       "<table border=\"1\" class=\"dataframe\">\n",
       "  <thead>\n",
       "    <tr style=\"text-align: right;\">\n",
       "      <th></th>\n",
       "      <th>price</th>\n",
       "      <th>size</th>\n",
       "      <th>floor</th>\n",
       "      <th>total_number_of_floors</th>\n",
       "    </tr>\n",
       "  </thead>\n",
       "  <tbody>\n",
       "    <tr>\n",
       "      <th>count</th>\n",
       "      <td>17128.000000</td>\n",
       "      <td>17128.000000</td>\n",
       "      <td>17128.000000</td>\n",
       "      <td>17128.000000</td>\n",
       "    </tr>\n",
       "    <tr>\n",
       "      <th>mean</th>\n",
       "      <td>11.473668</td>\n",
       "      <td>73.955309</td>\n",
       "      <td>2.859762</td>\n",
       "      <td>5.372198</td>\n",
       "    </tr>\n",
       "    <tr>\n",
       "      <th>std</th>\n",
       "      <td>0.652592</td>\n",
       "      <td>36.488714</td>\n",
       "      <td>3.181543</td>\n",
       "      <td>3.951864</td>\n",
       "    </tr>\n",
       "    <tr>\n",
       "      <th>min</th>\n",
       "      <td>8.779557</td>\n",
       "      <td>8.000000</td>\n",
       "      <td>0.000000</td>\n",
       "      <td>1.000000</td>\n",
       "    </tr>\n",
       "    <tr>\n",
       "      <th>25%</th>\n",
       "      <td>11.002100</td>\n",
       "      <td>51.000000</td>\n",
       "      <td>1.000000</td>\n",
       "      <td>3.000000</td>\n",
       "    </tr>\n",
       "    <tr>\n",
       "      <th>50%</th>\n",
       "      <td>11.439279</td>\n",
       "      <td>67.000000</td>\n",
       "      <td>2.000000</td>\n",
       "      <td>4.000000</td>\n",
       "    </tr>\n",
       "    <tr>\n",
       "      <th>75%</th>\n",
       "      <td>11.884489</td>\n",
       "      <td>88.000000</td>\n",
       "      <td>4.000000</td>\n",
       "      <td>6.000000</td>\n",
       "    </tr>\n",
       "    <tr>\n",
       "      <th>max</th>\n",
       "      <td>14.220976</td>\n",
       "      <td>557.000000</td>\n",
       "      <td>29.000000</td>\n",
       "      <td>30.000000</td>\n",
       "    </tr>\n",
       "  </tbody>\n",
       "</table>\n",
       "</div>"
      ],
      "text/plain": [
       "              price          size         floor  total_number_of_floors\n",
       "count  17128.000000  17128.000000  17128.000000            17128.000000\n",
       "mean      11.473668     73.955309      2.859762                5.372198\n",
       "std        0.652592     36.488714      3.181543                3.951864\n",
       "min        8.779557      8.000000      0.000000                1.000000\n",
       "25%       11.002100     51.000000      1.000000                3.000000\n",
       "50%       11.439279     67.000000      2.000000                4.000000\n",
       "75%       11.884489     88.000000      4.000000                6.000000\n",
       "max       14.220976    557.000000     29.000000               30.000000"
      ]
     },
     "execution_count": 87,
     "metadata": {},
     "output_type": "execute_result"
    }
   ],
   "source": [
    "data.describe()"
   ]
  },
  {
   "cell_type": "markdown",
   "metadata": {},
   "source": [
    "### Checking correlation"
   ]
  },
  {
   "cell_type": "code",
   "execution_count": 88,
   "metadata": {},
   "outputs": [
    {
     "data": {
      "image/png": "[encoded data removed]",
      "text/plain": [
       "<Figure size 288x288 with 2 Axes>"
      ]
     },
     "metadata": {
      "needs_background": "light"
     },
     "output_type": "display_data"
    }
   ],
   "source": [
    "corrmat=data.corr()\n",
    "f,ax=plt.subplots(figsize=(4,4))\n",
    "sns.heatmap(corrmat,vmax=.8,square=True)\n",
    "#plt.xticks(rotation=90)\n",
    "plt.show()"
   ]
  },
  {
   "cell_type": "code",
   "execution_count": 89,
   "metadata": {},
   "outputs": [],
   "source": [
    "# categorical columns\n",
    "bool_cols= ['filed', 'balcony', 'parking', 'garage', 'basement']\n",
    "\n",
    "# object columns\n",
    "low_cardinality_cols= ['advertiser', 'heating']\n",
    "high_cardinality_cols=['location','municipality','number_of_rooms']\n",
    "\n",
    "# numerical columns\n",
    "numerical_cols=['price','size','floor','total_number_of_floors']"
   ]
  },
  {
   "cell_type": "code",
   "execution_count": 90,
   "metadata": {},
   "outputs": [],
   "source": [
    "data.number_of_rooms=data.number_of_rooms.astype(str)"
   ]
  },
  {
   "cell_type": "markdown",
   "metadata": {},
   "source": [
    "### Applying label encoding to variables with a lot of categories"
   ]
  },
  {
   "cell_type": "code",
   "execution_count": 91,
   "metadata": {},
   "outputs": [
    {
     "data": {
      "text/html": [
       "<div>\n",
       "<style scoped>\n",
       "    .dataframe tbody tr th:only-of-type {\n",
       "        vertical-align: middle;\n",
       "    }\n",
       "\n",
       "    .dataframe tbody tr th {\n",
       "        vertical-align: top;\n",
       "    }\n",
       "\n",
       "    .dataframe thead th {\n",
       "        text-align: right;\n",
       "    }\n",
       "</style>\n",
       "<table border=\"1\" class=\"dataframe\">\n",
       "  <thead>\n",
       "    <tr style=\"text-align: right;\">\n",
       "      <th></th>\n",
       "      <th>location</th>\n",
       "      <th>municipality</th>\n",
       "      <th>number_of_rooms</th>\n",
       "    </tr>\n",
       "  </thead>\n",
       "  <tbody>\n",
       "    <tr>\n",
       "      <th>0</th>\n",
       "      <td>Blok 30 (B92)</td>\n",
       "      <td>Opština Novi Beograd</td>\n",
       "      <td>2</td>\n",
       "    </tr>\n",
       "    <tr>\n",
       "      <th>1</th>\n",
       "      <td>Blok 22</td>\n",
       "      <td>Opština Novi Beograd</td>\n",
       "      <td>2</td>\n",
       "    </tr>\n",
       "    <tr>\n",
       "      <th>2</th>\n",
       "      <td>Blok 67 (Belvil)</td>\n",
       "      <td>Opština Novi Beograd</td>\n",
       "      <td>2</td>\n",
       "    </tr>\n",
       "    <tr>\n",
       "      <th>3</th>\n",
       "      <td>Blok 67a (A blok)</td>\n",
       "      <td>Opština Novi Beograd</td>\n",
       "      <td>3</td>\n",
       "    </tr>\n",
       "    <tr>\n",
       "      <th>4</th>\n",
       "      <td>Centar</td>\n",
       "      <td>Opština Savski venac</td>\n",
       "      <td>3.5</td>\n",
       "    </tr>\n",
       "  </tbody>\n",
       "</table>\n",
       "</div>"
      ],
      "text/plain": [
       "            location          municipality number_of_rooms\n",
       "0      Blok 30 (B92)  Opština Novi Beograd               2\n",
       "1            Blok 22  Opština Novi Beograd               2\n",
       "2   Blok 67 (Belvil)  Opština Novi Beograd               2\n",
       "3  Blok 67a (A blok)  Opština Novi Beograd               3\n",
       "4             Centar  Opština Savski venac             3.5"
      ]
     },
     "execution_count": 91,
     "metadata": {},
     "output_type": "execute_result"
    }
   ],
   "source": [
    "label_data=data[high_cardinality_cols].copy()\n",
    "label_data.head()"
   ]
  },
  {
   "cell_type": "code",
   "execution_count": 92,
   "metadata": {},
   "outputs": [],
   "source": [
    "label_encoder=LabelEncoder()\n",
    "for col in high_cardinality_cols:\n",
    "    label_data[col]=label_encoder.fit_transform(label_data[col])"
   ]
  },
  {
   "cell_type": "markdown",
   "metadata": {},
   "source": [
    "### Applying OneHot Encoding to variables with small amount of categories"
   ]
  },
  {
   "cell_type": "code",
   "execution_count": 93,
   "metadata": {},
   "outputs": [],
   "source": [
    "OH_encoder=OneHotEncoder(handle_unknown='ignore', sparse=False)\n",
    "OH_cols=pd.DataFrame(OH_encoder.fit_transform(data[low_cardinality_cols]))\n",
    "OH_cols.index=data.index"
   ]
  },
  {
   "cell_type": "markdown",
   "metadata": {},
   "source": [
    "### Final data"
   ]
  },
  {
   "cell_type": "code",
   "execution_count": 94,
   "metadata": {},
   "outputs": [
    {
     "data": {
      "text/html": [
       "<div>\n",
       "<style scoped>\n",
       "    .dataframe tbody tr th:only-of-type {\n",
       "        vertical-align: middle;\n",
       "    }\n",
       "\n",
       "    .dataframe tbody tr th {\n",
       "        vertical-align: top;\n",
       "    }\n",
       "\n",
       "    .dataframe thead th {\n",
       "        text-align: right;\n",
       "    }\n",
       "</style>\n",
       "<table border=\"1\" class=\"dataframe\">\n",
       "  <thead>\n",
       "    <tr style=\"text-align: right;\">\n",
       "      <th></th>\n",
       "      <th>price</th>\n",
       "      <th>size</th>\n",
       "      <th>floor</th>\n",
       "      <th>total_number_of_floors</th>\n",
       "      <th>location</th>\n",
       "      <th>municipality</th>\n",
       "      <th>number_of_rooms</th>\n",
       "      <th>0</th>\n",
       "      <th>1</th>\n",
       "      <th>2</th>\n",
       "      <th>...</th>\n",
       "      <th>8</th>\n",
       "      <th>9</th>\n",
       "      <th>10</th>\n",
       "      <th>11</th>\n",
       "      <th>12</th>\n",
       "      <th>filed</th>\n",
       "      <th>balcony</th>\n",
       "      <th>parking</th>\n",
       "      <th>garage</th>\n",
       "      <th>basement</th>\n",
       "    </tr>\n",
       "  </thead>\n",
       "  <tbody>\n",
       "    <tr>\n",
       "      <th>0</th>\n",
       "      <td>11.686879</td>\n",
       "      <td>64.0</td>\n",
       "      <td>1.0</td>\n",
       "      <td>10.0</td>\n",
       "      <td>35</td>\n",
       "      <td>4</td>\n",
       "      <td>3</td>\n",
       "      <td>1.0</td>\n",
       "      <td>0.0</td>\n",
       "      <td>0.0</td>\n",
       "      <td>...</td>\n",
       "      <td>0.0</td>\n",
       "      <td>0.0</td>\n",
       "      <td>0.0</td>\n",
       "      <td>0.0</td>\n",
       "      <td>0.0</td>\n",
       "      <td>True</td>\n",
       "      <td>True</td>\n",
       "      <td>False</td>\n",
       "      <td>False</td>\n",
       "      <td>False</td>\n",
       "    </tr>\n",
       "    <tr>\n",
       "      <th>1</th>\n",
       "      <td>11.915052</td>\n",
       "      <td>67.0</td>\n",
       "      <td>6.0</td>\n",
       "      <td>6.0</td>\n",
       "      <td>29</td>\n",
       "      <td>4</td>\n",
       "      <td>3</td>\n",
       "      <td>1.0</td>\n",
       "      <td>0.0</td>\n",
       "      <td>0.0</td>\n",
       "      <td>...</td>\n",
       "      <td>0.0</td>\n",
       "      <td>0.0</td>\n",
       "      <td>0.0</td>\n",
       "      <td>0.0</td>\n",
       "      <td>0.0</td>\n",
       "      <td>True</td>\n",
       "      <td>True</td>\n",
       "      <td>True</td>\n",
       "      <td>False</td>\n",
       "      <td>True</td>\n",
       "    </tr>\n",
       "    <tr>\n",
       "      <th>2</th>\n",
       "      <td>11.820410</td>\n",
       "      <td>60.0</td>\n",
       "      <td>5.0</td>\n",
       "      <td>10.0</td>\n",
       "      <td>53</td>\n",
       "      <td>4</td>\n",
       "      <td>3</td>\n",
       "      <td>1.0</td>\n",
       "      <td>0.0</td>\n",
       "      <td>0.0</td>\n",
       "      <td>...</td>\n",
       "      <td>0.0</td>\n",
       "      <td>0.0</td>\n",
       "      <td>0.0</td>\n",
       "      <td>0.0</td>\n",
       "      <td>0.0</td>\n",
       "      <td>True</td>\n",
       "      <td>True</td>\n",
       "      <td>False</td>\n",
       "      <td>False</td>\n",
       "      <td>False</td>\n",
       "    </tr>\n",
       "    <tr>\n",
       "      <th>3</th>\n",
       "      <td>12.230765</td>\n",
       "      <td>70.0</td>\n",
       "      <td>4.0</td>\n",
       "      <td>6.0</td>\n",
       "      <td>54</td>\n",
       "      <td>4</td>\n",
       "      <td>5</td>\n",
       "      <td>1.0</td>\n",
       "      <td>0.0</td>\n",
       "      <td>0.0</td>\n",
       "      <td>...</td>\n",
       "      <td>0.0</td>\n",
       "      <td>0.0</td>\n",
       "      <td>0.0</td>\n",
       "      <td>0.0</td>\n",
       "      <td>0.0</td>\n",
       "      <td>True</td>\n",
       "      <td>True</td>\n",
       "      <td>False</td>\n",
       "      <td>True</td>\n",
       "      <td>False</td>\n",
       "    </tr>\n",
       "    <tr>\n",
       "      <th>4</th>\n",
       "      <td>12.409013</td>\n",
       "      <td>113.0</td>\n",
       "      <td>5.0</td>\n",
       "      <td>6.0</td>\n",
       "      <td>71</td>\n",
       "      <td>8</td>\n",
       "      <td>6</td>\n",
       "      <td>1.0</td>\n",
       "      <td>0.0</td>\n",
       "      <td>0.0</td>\n",
       "      <td>...</td>\n",
       "      <td>0.0</td>\n",
       "      <td>0.0</td>\n",
       "      <td>0.0</td>\n",
       "      <td>0.0</td>\n",
       "      <td>0.0</td>\n",
       "      <td>True</td>\n",
       "      <td>True</td>\n",
       "      <td>False</td>\n",
       "      <td>False</td>\n",
       "      <td>True</td>\n",
       "    </tr>\n",
       "  </tbody>\n",
       "</table>\n",
       "<p>5 rows × 25 columns</p>\n",
       "</div>"
      ],
      "text/plain": [
       "       price   size  floor  total_number_of_floors  location  municipality  \\\n",
       "0  11.686879   64.0    1.0                    10.0        35             4   \n",
       "1  11.915052   67.0    6.0                     6.0        29             4   \n",
       "2  11.820410   60.0    5.0                    10.0        53             4   \n",
       "3  12.230765   70.0    4.0                     6.0        54             4   \n",
       "4  12.409013  113.0    5.0                     6.0        71             8   \n",
       "\n",
       "   number_of_rooms    0    1    2  ...    8    9   10   11   12  filed  \\\n",
       "0                3  1.0  0.0  0.0  ...  0.0  0.0  0.0  0.0  0.0   True   \n",
       "1                3  1.0  0.0  0.0  ...  0.0  0.0  0.0  0.0  0.0   True   \n",
       "2                3  1.0  0.0  0.0  ...  0.0  0.0  0.0  0.0  0.0   True   \n",
       "3                5  1.0  0.0  0.0  ...  0.0  0.0  0.0  0.0  0.0   True   \n",
       "4                6  1.0  0.0  0.0  ...  0.0  0.0  0.0  0.0  0.0   True   \n",
       "\n",
       "   balcony  parking  garage  basement  \n",
       "0     True    False   False     False  \n",
       "1     True     True   False      True  \n",
       "2     True    False   False     False  \n",
       "3     True    False    True     False  \n",
       "4     True    False   False      True  \n",
       "\n",
       "[5 rows x 25 columns]"
      ]
     },
     "execution_count": 94,
     "metadata": {},
     "output_type": "execute_result"
    }
   ],
   "source": [
    "final_data=pd.concat([data[numerical_cols],label_data,OH_cols,data[bool_cols]],axis=1)\n",
    "final_data.head()"
   ]
  },
  {
   "cell_type": "code",
   "execution_count": 95,
   "metadata": {},
   "outputs": [
    {
     "data": {
      "text/plain": [
       "(17128, 25)"
      ]
     },
     "execution_count": 95,
     "metadata": {},
     "output_type": "execute_result"
    }
   ],
   "source": [
    "final_data.shape"
   ]
  },
  {
   "cell_type": "markdown",
   "metadata": {},
   "source": [
    "### Split data to train and test"
   ]
  },
  {
   "cell_type": "code",
   "execution_count": 96,
   "metadata": {},
   "outputs": [],
   "source": [
    "cols_to_use=[col for col in final_data.columns if col!='price']\n",
    "X=final_data[cols_to_use]\n",
    "y=final_data.price\n",
    "train_X,test_X,train_y,test_y=train_test_split(X,y,random_state=0)"
   ]
  },
  {
   "cell_type": "code",
   "execution_count": 97,
   "metadata": {},
   "outputs": [
    {
     "name": "stdout",
     "output_type": "stream",
     "text": [
      "(12846, 24)\n",
      "(4282, 24)\n"
     ]
    }
   ],
   "source": [
    "print(train_X.shape)\n",
    "print(test_X.shape)"
   ]
  },
  {
   "cell_type": "markdown",
   "metadata": {},
   "source": [
    "### Applying regression models"
   ]
  },
  {
   "cell_type": "markdown",
   "metadata": {},
   "source": [
    "### Linear regression"
   ]
  },
  {
   "cell_type": "code",
   "execution_count": 98,
   "metadata": {},
   "outputs": [
    {
     "name": "stdout",
     "output_type": "stream",
     "text": [
      "Mean absolute error:  38857.924012106676\n",
      "Train score:  0.6427284075246236\n",
      "Test score:  0.6602455475567948\n"
     ]
    }
   ],
   "source": [
    "from sklearn.linear_model import LinearRegression\n",
    "from sklearn.metrics import mean_absolute_error\n",
    "\n",
    "model_1 = LinearRegression(normalize=True)\n",
    "model_1.fit(train_X, train_y)\n",
    "\n",
    "predictions_1=model_1.predict(test_X)\n",
    "\n",
    "print('Mean absolute error: ',mean_absolute_error(np.exp(test_y),np.exp(predictions_1)))\n",
    "\n",
    "# Score should be close to 1\n",
    "print('Train score: ', model_1.score(train_X, train_y))\n",
    "print('Test score: ',model_1.score(test_X, test_y))"
   ]
  },
  {
   "cell_type": "code",
   "execution_count": 99,
   "metadata": {},
   "outputs": [
    {
     "data": {
      "image/png": "[encoded data removed]",
      "text/plain": [
       "<Figure size 432x288 with 1 Axes>"
      ]
     },
     "metadata": {
      "needs_background": "light"
     },
     "output_type": "display_data"
    }
   ],
   "source": [
    "plt.scatter(test_y, predictions_1)\n",
    "plt.grid()\n",
    "plt.xlabel('Actual y')\n",
    "plt.ylabel('Predicted y')\n",
    "plt.title('Relationship between actual y and predicted y')\n",
    "plt.show()"
   ]
  },
  {
   "cell_type": "markdown",
   "metadata": {},
   "source": [
    "### Support Vector Machine"
   ]
  },
  {
   "cell_type": "code",
   "execution_count": 100,
   "metadata": {},
   "outputs": [
    {
     "name": "stdout",
     "output_type": "stream",
     "text": [
      "Mean absolute error:  24457.496715990863\n",
      "Train score:  0.9639401008221616\n",
      "Test score:  0.8053530922815093\n"
     ]
    }
   ],
   "source": [
    "from sklearn.svm import SVR\n",
    "\n",
    "model_2=SVR()\n",
    "model_2.fit(train_X,train_y)\n",
    "\n",
    "predictions_2=model_2.predict(test_X)\n",
    "print('Mean absolute error: ',mean_absolute_error(np.exp(test_y),np.exp(predictions_2)))\n",
    "print('Train score: ',model_2.score(train_X, train_y))\n",
    "print('Test score: ',model_2.score(test_X, test_y))"
   ]
  },
  {
   "cell_type": "code",
   "execution_count": 101,
   "metadata": {},
   "outputs": [
    {
     "data": {
      "image/png": "[encoded data removed]",
      "text/plain": [
       "<Figure size 432x288 with 1 Axes>"
      ]
     },
     "metadata": {
      "needs_background": "light"
     },
     "output_type": "display_data"
    }
   ],
   "source": [
    "plt.scatter(test_y, predictions_2)\n",
    "plt.grid()\n",
    "plt.xlabel('Actual y')\n",
    "plt.ylabel('Predicted y')\n",
    "plt.title('Relationship between actual y and predicted y')\n",
    "plt.show()"
   ]
  },
  {
   "cell_type": "markdown",
   "metadata": {},
   "source": [
    "### Random Forest"
   ]
  },
  {
   "cell_type": "code",
   "execution_count": 102,
   "metadata": {},
   "outputs": [
    {
     "name": "stdout",
     "output_type": "stream",
     "text": [
      "Mean absolute error:  16084.808056654394\n",
      "Train score:  0.9878334710751953\n",
      "Test score:  0.913994718201278\n"
     ]
    }
   ],
   "source": [
    "from sklearn.ensemble import RandomForestRegressor\n",
    "\n",
    "model_3=RandomForestRegressor(n_estimators=300, random_state=1)\n",
    "model_3.fit(train_X,train_y)\n",
    "\n",
    "predictions_3=model_3.predict(test_X)\n",
    "print('Mean absolute error: ',mean_absolute_error(np.exp(test_y),np.exp(predictions_3)))\n",
    "print('Train score: ',model_3.score(train_X, train_y))\n",
    "print('Test score: ',model_3.score(test_X, test_y))"
   ]
  },
  {
   "cell_type": "code",
   "execution_count": 103,
   "metadata": {},
   "outputs": [
    {
     "data": {
      "image/png": "[encoded data removed]",
      "text/plain": [
       "<Figure size 432x288 with 1 Axes>"
      ]
     },
     "metadata": {
      "needs_background": "light"
     },
     "output_type": "display_data"
    }
   ],
   "source": [
    "plt.scatter(test_y, predictions_3)\n",
    "plt.grid()\n",
    "plt.xlabel('Actual y')\n",
    "plt.ylabel('Predicted y')\n",
    "plt.title('Relationship between actual y and predicted y')\n",
    "plt.show()"
   ]
  },
  {
   "cell_type": "markdown",
   "metadata": {},
   "source": [
    "### Gradient Boosting Regressor"
   ]
  },
  {
   "cell_type": "code",
   "execution_count": 104,
   "metadata": {},
   "outputs": [
    {
     "name": "stdout",
     "output_type": "stream",
     "text": [
      "Mean absolute error:  23684.00959888521\n",
      "Train score:  0.8641609013727787\n",
      "Test score:  0.8602836402910693\n"
     ]
    }
   ],
   "source": [
    "from sklearn.ensemble import GradientBoostingRegressor\n",
    "\n",
    "\n",
    "model_4= GradientBoostingRegressor(n_estimators=1000,\n",
    "                                  subsample=1.0,\n",
    "                                  max_depth=3,\n",
    "                                  learning_rate=0.01,\n",
    "                                   random_state=1\n",
    "                                  )\n",
    "model_4.fit(train_X,train_y)\n",
    "predictions_4=model_4.predict(test_X)\n",
    "print('Mean absolute error: ',mean_absolute_error(np.exp(test_y),np.exp(predictions_4)))\n",
    "print('Train score: ',model_4.score(train_X, train_y))\n",
    "print('Test score: ',model_4.score(test_X, test_y))"
   ]
  },
  {
   "cell_type": "code",
   "execution_count": 105,
   "metadata": {},
   "outputs": [
    {
     "data": {
      "image/png": "[encoded data removed]",
      "text/plain": [
       "<Figure size 432x288 with 1 Axes>"
      ]
     },
     "metadata": {
      "needs_background": "light"
     },
     "output_type": "display_data"
    }
   ],
   "source": [
    "plt.scatter(test_y, predictions_4)\n",
    "plt.grid()\n",
    "plt.xlabel('Actual y')\n",
    "plt.ylabel('Predicted y')\n",
    "plt.title('Relationship between actual y and predicted y')\n",
    "plt.show()"
   ]
  },
  {
   "cell_type": "markdown",
   "metadata": {},
   "source": [
    "**Random Forest feature importances**"
   ]
  },
  {
   "cell_type": "code",
   "execution_count": 106,
   "metadata": {},
   "outputs": [
    {
     "data": {
      "text/html": [
       "<div>\n",
       "<style scoped>\n",
       "    .dataframe tbody tr th:only-of-type {\n",
       "        vertical-align: middle;\n",
       "    }\n",
       "\n",
       "    .dataframe tbody tr th {\n",
       "        vertical-align: top;\n",
       "    }\n",
       "\n",
       "    .dataframe thead th {\n",
       "        text-align: right;\n",
       "    }\n",
       "</style>\n",
       "<table border=\"1\" class=\"dataframe\">\n",
       "  <thead>\n",
       "    <tr style=\"text-align: right;\">\n",
       "      <th></th>\n",
       "      <th>feature</th>\n",
       "      <th>importance</th>\n",
       "    </tr>\n",
       "  </thead>\n",
       "  <tbody>\n",
       "    <tr>\n",
       "      <th>0</th>\n",
       "      <td>size</td>\n",
       "      <td>0.648958</td>\n",
       "    </tr>\n",
       "    <tr>\n",
       "      <th>1</th>\n",
       "      <td>municipality</td>\n",
       "      <td>0.148268</td>\n",
       "    </tr>\n",
       "    <tr>\n",
       "      <th>2</th>\n",
       "      <td>location</td>\n",
       "      <td>0.072866</td>\n",
       "    </tr>\n",
       "    <tr>\n",
       "      <th>3</th>\n",
       "      <td>total_number_of_floors</td>\n",
       "      <td>0.043989</td>\n",
       "    </tr>\n",
       "    <tr>\n",
       "      <th>4</th>\n",
       "      <td>floor</td>\n",
       "      <td>0.021456</td>\n",
       "    </tr>\n",
       "  </tbody>\n",
       "</table>\n",
       "</div>"
      ],
      "text/plain": [
       "                  feature  importance\n",
       "0                    size    0.648958\n",
       "1            municipality    0.148268\n",
       "2                location    0.072866\n",
       "3  total_number_of_floors    0.043989\n",
       "4                   floor    0.021456"
      ]
     },
     "execution_count": 106,
     "metadata": {},
     "output_type": "execute_result"
    }
   ],
   "source": [
    "importances =model_3.feature_importances_\n",
    "\n",
    "feature_list = list(train_X.columns)\n",
    "\n",
    "feature_results = pd.DataFrame({'feature': feature_list, 'importance': importances})\n",
    "\n",
    "feature_results= feature_results.sort_values('importance', ascending= False).reset_index(drop=True)\n",
    "\n",
    "feature_results.head()"
   ]
  },
  {
   "cell_type": "markdown",
   "metadata": {},
   "source": [
    "### Grid Search for Random Forest"
   ]
  },
  {
   "cell_type": "code",
   "execution_count": 107,
   "metadata": {},
   "outputs": [
    {
     "name": "stdout",
     "output_type": "stream",
     "text": [
      "Fitting 3 folds for each of 288 candidates, totalling 864 fits\n"
     ]
    },
    {
     "name": "stderr",
     "output_type": "stream",
     "text": [
      "[Parallel(n_jobs=-1)]: Using backend LokyBackend with 4 concurrent workers.\n",
      "[Parallel(n_jobs=-1)]: Done  33 tasks      | elapsed:   56.6s\n",
      "[Parallel(n_jobs=-1)]: Done 154 tasks      | elapsed:  4.3min\n",
      "[Parallel(n_jobs=-1)]: Done 357 tasks      | elapsed:  9.9min\n",
      "[Parallel(n_jobs=-1)]: Done 640 tasks      | elapsed: 18.6min\n",
      "[Parallel(n_jobs=-1)]: Done 864 out of 864 | elapsed: 22.9min finished\n"
     ]
    },
    {
     "data": {
      "text/plain": [
       "GridSearchCV(cv=3, error_score='raise-deprecating',\n",
       "       estimator=RandomForestRegressor(bootstrap=True, criterion='mse', max_depth=None,\n",
       "           max_features='auto', max_leaf_nodes=None,\n",
       "           min_impurity_decrease=0.0, min_impurity_split=None,\n",
       "           min_samples_leaf=1, min_samples_split=2,\n",
       "           min_weight_fraction_leaf=0.0, n_estimators='warn', n_jobs=None,\n",
       "           oob_score=False, random_state=None, verbose=0, warm_start=False),\n",
       "       fit_params=None, iid='warn', n_jobs=-1,\n",
       "       param_grid={'bootstrap': [True], 'max_depth': [80, 90, 100, 110], 'max_features': [2, 3], 'min_samples_leaf': [3, 4, 5], 'min_samples_split': [8, 10, 12], 'n_estimators': [100, 200, 300, 1000]},\n",
       "       pre_dispatch='2*n_jobs', refit=True, return_train_score='warn',\n",
       "       scoring=None, verbose=2)"
      ]
     },
     "execution_count": 107,
     "metadata": {},
     "output_type": "execute_result"
    }
   ],
   "source": [
    "from sklearn.model_selection import GridSearchCV\n",
    "\n",
    "param_grid = {\n",
    "    'bootstrap': [True],\n",
    "    'max_depth': [80, 90, 100, 110],\n",
    "    'max_features': [2, 3],\n",
    "    'min_samples_leaf': [3, 4, 5],\n",
    "    'min_samples_split': [8, 10, 12],\n",
    "    'n_estimators': [100, 200, 300, 1000]\n",
    "}\n",
    "\n",
    "\n",
    "rf = RandomForestRegressor()\n",
    "grid_search = GridSearchCV(estimator = rf, param_grid = param_grid, \n",
    "                          cv = 3, n_jobs = -1, verbose = 2)\n",
    "grid_search.fit(train_X, train_y)"
   ]
  },
  {
   "cell_type": "code",
   "execution_count": 108,
   "metadata": {},
   "outputs": [
    {
     "data": {
      "text/plain": [
       "{'bootstrap': True,\n",
       " 'max_depth': 90,\n",
       " 'max_features': 3,\n",
       " 'min_samples_leaf': 3,\n",
       " 'min_samples_split': 8,\n",
       " 'n_estimators': 200}"
      ]
     },
     "execution_count": 108,
     "metadata": {},
     "output_type": "execute_result"
    }
   ],
   "source": [
    "grid_search.best_params_"
   ]
  },
  {
   "cell_type": "code",
   "execution_count": 109,
   "metadata": {},
   "outputs": [
    {
     "data": {
      "text/plain": [
       "RandomForestRegressor(bootstrap=True, criterion='mse', max_depth=80,\n",
       "           max_features=3, max_leaf_nodes=None, min_impurity_decrease=0.0,\n",
       "           min_impurity_split=None, min_samples_leaf=3,\n",
       "           min_samples_split=8, min_weight_fraction_leaf=0.0,\n",
       "           n_estimators=100, n_jobs=None, oob_score=False, random_state=1,\n",
       "           verbose=0, warm_start=False)"
      ]
     },
     "execution_count": 109,
     "metadata": {},
     "output_type": "execute_result"
    }
   ],
   "source": [
    "model_GSearch=RandomForestRegressor(n_estimators=100, min_samples_split=8, min_samples_leaf=3,\n",
    "                                    max_features=3,max_depth=80,bootstrap=True,\n",
    "                                    random_state=1)\n",
    "model_GSearch.fit(train_X,train_y)"
   ]
  },
  {
   "cell_type": "code",
   "execution_count": 110,
   "metadata": {},
   "outputs": [],
   "source": [
    "predictions_GSearch=model_GSearch.predict(test_X)"
   ]
  },
  {
   "cell_type": "code",
   "execution_count": 111,
   "metadata": {},
   "outputs": [
    {
     "name": "stdout",
     "output_type": "stream",
     "text": [
      "26802.871938471508\n",
      "0.8595666673051677\n",
      "0.8196907776024219\n"
     ]
    }
   ],
   "source": [
    "print(mean_absolute_error(np.exp(test_y),np.exp(predictions_GSearch)))\n",
    "print(model_GSearch.score(train_X, train_y))\n",
    "print(model_GSearch.score(test_X, test_y))"
   ]
  },
  {
   "cell_type": "markdown",
   "metadata": {},
   "source": [
    "Case of overfit."
   ]
  },
  {
   "cell_type": "markdown",
   "metadata": {},
   "source": [
    "### Last try with XGBoost"
   ]
  },
  {
   "cell_type": "code",
   "execution_count": 112,
   "metadata": {},
   "outputs": [
    {
     "name": "stdout",
     "output_type": "stream",
     "text": [
      "[19:48:59] WARNING: C:/Jenkins/workspace/xgboost-win64_release_0.90/src/objective/regression_obj.cu:152: reg:linear is now deprecated in favor of reg:squarederror.\n",
      "Mean absolute error:  16846.93735654885\n",
      "Train score:  0.9544547394681407\n",
      "Test score:  0.9259349572333139\n"
     ]
    }
   ],
   "source": [
    "from xgboost import XGBRegressor\n",
    "\n",
    "model_5= XGBRegressor(n_estimators=3000,\n",
    "                      max_depth=3,\n",
    "                      learning_rate=0.1,\n",
    "                      n_jobs = -1,\n",
    "                      early_stopping_rounds=10,\n",
    "                      random_state=1\n",
    "                                  )\n",
    "model_5.fit(train_X,train_y)\n",
    "predictions_5=model_5.predict(test_X)\n",
    "print('Mean absolute error: ',mean_absolute_error(np.exp(test_y),np.exp(predictions_5)))\n",
    "print('Train score: ',model_5.score(train_X, train_y))\n",
    "print('Test score: ',model_5.score(test_X, test_y))"
   ]
  },
  {
   "cell_type": "code",
   "execution_count": 113,
   "metadata": {},
   "outputs": [
    {
     "data": {
      "image/png": "[encoded data removed]",
      "text/plain": [
       "<Figure size 432x288 with 1 Axes>"
      ]
     },
     "metadata": {
      "needs_background": "light"
     },
     "output_type": "display_data"
    }
   ],
   "source": [
    "plt.scatter(test_y, predictions_5)\n",
    "plt.grid()\n",
    "plt.xlabel('Actual y')\n",
    "plt.ylabel('Predicted y')\n",
    "plt.title('Relationship between actual y and predicted y')\n",
    "plt.show()"
   ]
  },
  {
   "cell_type": "code",
   "execution_count": 114,
   "metadata": {},
   "outputs": [
    {
     "data": {
      "text/html": [
       "<div>\n",
       "<style scoped>\n",
       "    .dataframe tbody tr th:only-of-type {\n",
       "        vertical-align: middle;\n",
       "    }\n",
       "\n",
       "    .dataframe tbody tr th {\n",
       "        vertical-align: top;\n",
       "    }\n",
       "\n",
       "    .dataframe thead th {\n",
       "        text-align: right;\n",
       "    }\n",
       "</style>\n",
       "<table border=\"1\" class=\"dataframe\">\n",
       "  <thead>\n",
       "    <tr style=\"text-align: right;\">\n",
       "      <th></th>\n",
       "      <th>feature</th>\n",
       "      <th>importance</th>\n",
       "    </tr>\n",
       "  </thead>\n",
       "  <tbody>\n",
       "    <tr>\n",
       "      <th>0</th>\n",
       "      <td>size</td>\n",
       "      <td>0.262675</td>\n",
       "    </tr>\n",
       "    <tr>\n",
       "      <th>1</th>\n",
       "      <td>municipality</td>\n",
       "      <td>0.186706</td>\n",
       "    </tr>\n",
       "    <tr>\n",
       "      <th>2</th>\n",
       "      <td>garage</td>\n",
       "      <td>0.135843</td>\n",
       "    </tr>\n",
       "    <tr>\n",
       "      <th>3</th>\n",
       "      <td>4</td>\n",
       "      <td>0.127466</td>\n",
       "    </tr>\n",
       "    <tr>\n",
       "      <th>4</th>\n",
       "      <td>11</td>\n",
       "      <td>0.048713</td>\n",
       "    </tr>\n",
       "  </tbody>\n",
       "</table>\n",
       "</div>"
      ],
      "text/plain": [
       "        feature  importance\n",
       "0          size    0.262675\n",
       "1  municipality    0.186706\n",
       "2        garage    0.135843\n",
       "3             4    0.127466\n",
       "4            11    0.048713"
      ]
     },
     "execution_count": 114,
     "metadata": {},
     "output_type": "execute_result"
    }
   ],
   "source": [
    "XGB_importances =model_5.feature_importances_\n",
    "\n",
    "feature_list = list(train_X.columns)\n",
    "\n",
    "feature_results = pd.DataFrame({'feature': feature_list, 'importance': XGB_importances})\n",
    "\n",
    "feature_results= feature_results.sort_values('importance', ascending= False).reset_index(drop=True)\n",
    "\n",
    "feature_results.head()"
   ]
  },
  {
   "cell_type": "markdown",
   "metadata": {},
   "source": [
    "XGBoost seams to be the best algorithm, because of the best test score."
   ]
  },
  {
   "cell_type": "code",
   "execution_count": null,
   "metadata": {},
   "outputs": [],
   "source": []
  }
 ],
 "metadata": {
  "hide_code_all_hidden": false,
  "kernelspec": {
   "display_name": "Python 3",
   "language": "python",
   "name": "python3"
  },
  "language_info": {
   "codemirror_mode": {
    "name": "ipython",
    "version": 3
   },
   "file_extension": ".py",
   "mimetype": "text/x-python",
   "name": "python",
   "nbconvert_exporter": "python",
   "pygments_lexer": "ipython3",
   "version": "3.7.3"
  }
 },
 "nbformat": 4,
 "nbformat_minor": 2
}
